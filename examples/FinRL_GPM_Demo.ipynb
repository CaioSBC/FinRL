{
 "cells": [
  {
   "cell_type": "markdown",
   "metadata": {
    "id": "3xt6fIDownZs"
   },
   "source": [
    "# GPM: A graph convolutional network based reinforcement learning framework for portfolio management\n",
    "\n",
    "In this document, we will make use of a graph neural network architecture called GPM, introduced in the following paper:\n",
    "\n",
    "- Si Shi, Jianjun Li, Guohui Li, Peng Pan, Qi Chen & Qing Sun. (2022). GPM: A graph convolutional network based reinforcement learning framework for portfolio management. https://doi.org/10.1016/j.neucom.2022.04.105.\n",
    "\n",
    "### Note\n",
    "If you're using the portfolio optimization environment, consider citing the following paper (in adittion to FinRL references):\n",
    "\n",
    "- Caio Costa, & Anna Costa (2023). POE: A General Portfolio Optimization Environment for FinRL. In *Anais do II Brazilian Workshop on Artificial Intelligence in Finance* (pp. 132–143). SBC. https://doi.org/10.5753/bwaif.2023.231144.\n",
    "\n",
    "```\n",
    "@inproceedings{bwaif,\n",
    " author = {Caio Costa and Anna Costa},\n",
    " title = {POE: A General Portfolio Optimization Environment for FinRL},\n",
    " booktitle = {Anais do II Brazilian Workshop on Artificial Intelligence in Finance},\n",
    " location = {João Pessoa/PB},\n",
    " year = {2023},\n",
    " keywords = {},\n",
    " issn = {0000-0000},\n",
    " pages = {132--143},\n",
    " publisher = {SBC},\n",
    " address = {Porto Alegre, RS, Brasil},\n",
    " doi = {10.5753/bwaif.2023.231144},\n",
    " url = {https://sol.sbc.org.br/index.php/bwaif/article/view/24959}\n",
    "}\n",
    "\n",
    "```"
   ]
  },
  {
   "cell_type": "markdown",
   "metadata": {
    "id": "Q0L7FZeWMUHp"
   },
   "source": [
    "## Installation and imports\n",
    "\n",
    "To run this notebook in google colab, uncomment the cells below."
   ]
  },
  {
   "cell_type": "code",
   "execution_count": 1,
   "metadata": {
    "colab": {
     "base_uri": "https://localhost:8080/"
    },
    "id": "XGHfTt1HMVQw",
    "outputId": "e5226807-a740-4f22-a279-f466886518ba"
   },
   "outputs": [],
   "source": [
    "## install finrl library\n",
    "# !sudo apt install swig\n",
    "# !pip install git+https://github.com/AI4Finance-Foundation/FinRL.git"
   ]
  },
  {
   "cell_type": "markdown",
   "metadata": {},
   "source": [
    "The following library is necessary to get market trading days and create a datetime column in the training data."
   ]
  },
  {
   "cell_type": "code",
   "execution_count": 2,
   "metadata": {},
   "outputs": [
    {
     "name": "stdout",
     "output_type": "stream",
     "text": [
      "Requirement already satisfied: pandas-market-calendars in /opt/homebrew/anaconda3/envs/finrl/lib/python3.10/site-packages (4.4.2)\n",
      "Requirement already satisfied: pandas>=1.1 in /opt/homebrew/anaconda3/envs/finrl/lib/python3.10/site-packages (from pandas-market-calendars) (2.2.3)\n",
      "Requirement already satisfied: pytz in /opt/homebrew/anaconda3/envs/finrl/lib/python3.10/site-packages (from pandas-market-calendars) (2024.2)\n",
      "Requirement already satisfied: python-dateutil in /opt/homebrew/anaconda3/envs/finrl/lib/python3.10/site-packages (from pandas-market-calendars) (2.9.0.post0)\n",
      "Requirement already satisfied: exchange-calendars>=3.3 in /opt/homebrew/anaconda3/envs/finrl/lib/python3.10/site-packages (from pandas-market-calendars) (4.6)\n",
      "Requirement already satisfied: numpy in /opt/homebrew/anaconda3/envs/finrl/lib/python3.10/site-packages (from exchange-calendars>=3.3->pandas-market-calendars) (1.26.4)\n",
      "Requirement already satisfied: pyluach in /opt/homebrew/anaconda3/envs/finrl/lib/python3.10/site-packages (from exchange-calendars>=3.3->pandas-market-calendars) (2.2.0)\n",
      "Requirement already satisfied: toolz in /opt/homebrew/anaconda3/envs/finrl/lib/python3.10/site-packages (from exchange-calendars>=3.3->pandas-market-calendars) (1.0.0)\n",
      "Requirement already satisfied: tzdata in /opt/homebrew/anaconda3/envs/finrl/lib/python3.10/site-packages (from exchange-calendars>=3.3->pandas-market-calendars) (2024.2)\n",
      "Requirement already satisfied: korean_lunar_calendar in /opt/homebrew/anaconda3/envs/finrl/lib/python3.10/site-packages (from exchange-calendars>=3.3->pandas-market-calendars) (0.3.1)\n",
      "Requirement already satisfied: six>=1.5 in /opt/homebrew/anaconda3/envs/finrl/lib/python3.10/site-packages (from python-dateutil->pandas-market-calendars) (1.17.0)\n"
     ]
    }
   ],
   "source": [
    "!pip install pandas-market-calendars"
   ]
  },
  {
   "cell_type": "code",
   "execution_count": 3,
   "metadata": {
    "id": "6RqrzokqoanP"
   },
   "outputs": [],
   "source": [
    "## Hide matplotlib warnings\n",
    "# import warnings\n",
    "# warnings.filterwarnings('ignore')\n",
    "\n",
    "import logging\n",
    "logging.getLogger('matplotlib.font_manager').disabled = True"
   ]
  },
  {
   "cell_type": "markdown",
   "metadata": {
    "id": "Cz8DLleGz_TF"
   },
   "source": [
    "#### Import the necessary code libraries"
   ]
  },
  {
   "cell_type": "code",
   "execution_count": 4,
   "metadata": {
    "colab": {
     "base_uri": "https://localhost:8080/"
    },
    "id": "cP5t6U7-nYoc",
    "outputId": "fd138d3e-222a-4ec5-e008-03a28b89dae9"
   },
   "outputs": [],
   "source": [
    "import torch\n",
    "\n",
    "import numpy as np\n",
    "import pandas as pd\n",
    "import pandas_market_calendars as mcal\n",
    "\n",
    "from torch_geometric.utils import k_hop_subgraph\n",
    "\n",
    "from finrl.meta.env_portfolio_optimization import PortfolioOptimizationEnv\n",
    "from finrl.agents.rlportfolio.models import DRLAgent\n",
    "\n",
    "device = 'mps' if torch.cuda.is_available() else 'cpu'"
   ]
  },
  {
   "cell_type": "markdown",
   "metadata": {
    "id": "TY2yhvpASEyo"
   },
   "source": [
    "## Fetch data\n",
    "\n",
    "We are going to use the same data used in the paper. The original data can be found in [Temporal_Relational_Stock_Ranking repository](https://github.com/fulifeng/Temporal_Relational_Stock_Ranking), but it's not in a FinRL friendly format. So, we're going to get the processed and FinRL-friendly data from [Temporal_Relational_Stock_Ranking_FinRL repository](https://github.com/C4i0kun/Temporal_Relational_Stock_Ranking_FinRL)."
   ]
  },
  {
   "cell_type": "code",
   "execution_count": 5,
   "metadata": {},
   "outputs": [],
   "source": [
    "# download repository with data and extract tar.gz file with processed temporal data\n",
    "# !curl -L -o Temporal_Relational_Stock_Ranking_FinRL-main.zip https://github.com/CaioSBC/Temporal_Relational_Stock_Ranking_FinRL/archive/refs/heads/main.zip\n",
    "# !unzip Temporal_Relational_Stock_Ranking_FinRL-main.zip\n",
    "# !mv Temporal_Relational_Stock_Ranking_FinRL-main Temporal_Relational_Stock_Ranking_FinRL\n",
    "# !tar -xzvf Temporal_Relational_Stock_Ranking_FinRL/temporal_data/temporal_data_processed.tar.gz -C Temporal_Relational_Stock_Ranking_FinRL/temporal_data"
   ]
  },
  {
   "cell_type": "code",
   "execution_count": 6,
   "metadata": {
    "colab": {
     "base_uri": "https://localhost:8080/"
    },
    "id": "H11UjCstSFwm",
    "outputId": "3d27b983-d1e0-41af-b20a-421be40e469f"
   },
   "outputs": [
    {
     "data": {
      "text/html": [
       "<div>\n",
       "<style scoped>\n",
       "    .dataframe tbody tr th:only-of-type {\n",
       "        vertical-align: middle;\n",
       "    }\n",
       "\n",
       "    .dataframe tbody tr th {\n",
       "        vertical-align: top;\n",
       "    }\n",
       "\n",
       "    .dataframe thead th {\n",
       "        text-align: right;\n",
       "    }\n",
       "</style>\n",
       "<table border=\"1\" class=\"dataframe\">\n",
       "  <thead>\n",
       "    <tr style=\"text-align: right;\">\n",
       "      <th></th>\n",
       "      <th>day</th>\n",
       "      <th>open</th>\n",
       "      <th>high</th>\n",
       "      <th>low</th>\n",
       "      <th>close</th>\n",
       "      <th>volume</th>\n",
       "      <th>tic</th>\n",
       "    </tr>\n",
       "  </thead>\n",
       "  <tbody>\n",
       "    <tr>\n",
       "      <th>0</th>\n",
       "      <td>0</td>\n",
       "      <td>0.270533</td>\n",
       "      <td>0.269522</td>\n",
       "      <td>0.267237</td>\n",
       "      <td>0.263333</td>\n",
       "      <td>0.275333</td>\n",
       "      <td>AABA</td>\n",
       "    </tr>\n",
       "    <tr>\n",
       "      <th>1</th>\n",
       "      <td>0</td>\n",
       "      <td>0.238730</td>\n",
       "      <td>0.237522</td>\n",
       "      <td>0.239888</td>\n",
       "      <td>0.240502</td>\n",
       "      <td>0.248031</td>\n",
       "      <td>AAON</td>\n",
       "    </tr>\n",
       "    <tr>\n",
       "      <th>2</th>\n",
       "      <td>0</td>\n",
       "      <td>0.424556</td>\n",
       "      <td>0.424768</td>\n",
       "      <td>0.429769</td>\n",
       "      <td>0.442628</td>\n",
       "      <td>0.445018</td>\n",
       "      <td>AAPL</td>\n",
       "    </tr>\n",
       "    <tr>\n",
       "      <th>3</th>\n",
       "      <td>0</td>\n",
       "      <td>0.650667</td>\n",
       "      <td>0.648412</td>\n",
       "      <td>0.634492</td>\n",
       "      <td>0.631473</td>\n",
       "      <td>0.667839</td>\n",
       "      <td>AAWW</td>\n",
       "    </tr>\n",
       "    <tr>\n",
       "      <th>4</th>\n",
       "      <td>0</td>\n",
       "      <td>0.766565</td>\n",
       "      <td>0.761693</td>\n",
       "      <td>0.759330</td>\n",
       "      <td>0.750061</td>\n",
       "      <td>0.788157</td>\n",
       "      <td>AAXJ</td>\n",
       "    </tr>\n",
       "    <tr>\n",
       "      <th>...</th>\n",
       "      <td>...</td>\n",
       "      <td>...</td>\n",
       "      <td>...</td>\n",
       "      <td>...</td>\n",
       "      <td>...</td>\n",
       "      <td>...</td>\n",
       "      <td>...</td>\n",
       "    </tr>\n",
       "    <tr>\n",
       "      <th>1277365</th>\n",
       "      <td>1244</td>\n",
       "      <td>0.909992</td>\n",
       "      <td>0.918809</td>\n",
       "      <td>0.912345</td>\n",
       "      <td>0.922698</td>\n",
       "      <td>0.913021</td>\n",
       "      <td>ZBRA</td>\n",
       "    </tr>\n",
       "    <tr>\n",
       "      <th>1277366</th>\n",
       "      <td>1244</td>\n",
       "      <td>0.660990</td>\n",
       "      <td>0.648907</td>\n",
       "      <td>0.636086</td>\n",
       "      <td>0.630816</td>\n",
       "      <td>0.665167</td>\n",
       "      <td>ZEUS</td>\n",
       "    </tr>\n",
       "    <tr>\n",
       "      <th>1277367</th>\n",
       "      <td>1244</td>\n",
       "      <td>0.981600</td>\n",
       "      <td>0.961674</td>\n",
       "      <td>0.926768</td>\n",
       "      <td>0.914257</td>\n",
       "      <td>0.984345</td>\n",
       "      <td>ZION</td>\n",
       "    </tr>\n",
       "    <tr>\n",
       "      <th>1277368</th>\n",
       "      <td>1244</td>\n",
       "      <td>0.980227</td>\n",
       "      <td>0.974903</td>\n",
       "      <td>0.960225</td>\n",
       "      <td>0.964956</td>\n",
       "      <td>0.997580</td>\n",
       "      <td>ZIV</td>\n",
       "    </tr>\n",
       "    <tr>\n",
       "      <th>1277369</th>\n",
       "      <td>1244</td>\n",
       "      <td>0.509179</td>\n",
       "      <td>0.500725</td>\n",
       "      <td>0.475543</td>\n",
       "      <td>0.459018</td>\n",
       "      <td>0.512077</td>\n",
       "      <td>ZUMZ</td>\n",
       "    </tr>\n",
       "  </tbody>\n",
       "</table>\n",
       "<p>1277370 rows × 7 columns</p>\n",
       "</div>"
      ],
      "text/plain": [
       "          day      open      high       low     close    volume   tic\n",
       "0           0  0.270533  0.269522  0.267237  0.263333  0.275333  AABA\n",
       "1           0  0.238730  0.237522  0.239888  0.240502  0.248031  AAON\n",
       "2           0  0.424556  0.424768  0.429769  0.442628  0.445018  AAPL\n",
       "3           0  0.650667  0.648412  0.634492  0.631473  0.667839  AAWW\n",
       "4           0  0.766565  0.761693  0.759330  0.750061  0.788157  AAXJ\n",
       "...       ...       ...       ...       ...       ...       ...   ...\n",
       "1277365  1244  0.909992  0.918809  0.912345  0.922698  0.913021  ZBRA\n",
       "1277366  1244  0.660990  0.648907  0.636086  0.630816  0.665167  ZEUS\n",
       "1277367  1244  0.981600  0.961674  0.926768  0.914257  0.984345  ZION\n",
       "1277368  1244  0.980227  0.974903  0.960225  0.964956  0.997580   ZIV\n",
       "1277369  1244  0.509179  0.500725  0.475543  0.459018  0.512077  ZUMZ\n",
       "\n",
       "[1277370 rows x 7 columns]"
      ]
     },
     "execution_count": 6,
     "metadata": {},
     "output_type": "execute_result"
    }
   ],
   "source": [
    "nasdaq_temporal = pd.read_csv(\"Temporal_Relational_Stock_Ranking_FinRL/temporal_data/NASDAQ_temporal_data.csv\")\n",
    "nasdaq_temporal"
   ]
  },
  {
   "cell_type": "markdown",
   "metadata": {},
   "source": [
    "It can be seen above that the temporal data does not have a date column, with datetime data. Since the simulation environment needs a date column, we will add it using the pandas market calendars unit. As stated in the original paper, the temporal data ranges from 2013-01-02 to 2017-12-08."
   ]
  },
  {
   "cell_type": "code",
   "execution_count": 7,
   "metadata": {},
   "outputs": [
    {
     "data": {
      "text/html": [
       "<div>\n",
       "<style scoped>\n",
       "    .dataframe tbody tr th:only-of-type {\n",
       "        vertical-align: middle;\n",
       "    }\n",
       "\n",
       "    .dataframe tbody tr th {\n",
       "        vertical-align: top;\n",
       "    }\n",
       "\n",
       "    .dataframe thead th {\n",
       "        text-align: right;\n",
       "    }\n",
       "</style>\n",
       "<table border=\"1\" class=\"dataframe\">\n",
       "  <thead>\n",
       "    <tr style=\"text-align: right;\">\n",
       "      <th></th>\n",
       "      <th>day</th>\n",
       "      <th>open</th>\n",
       "      <th>high</th>\n",
       "      <th>low</th>\n",
       "      <th>close</th>\n",
       "      <th>volume</th>\n",
       "      <th>tic</th>\n",
       "      <th>date</th>\n",
       "    </tr>\n",
       "  </thead>\n",
       "  <tbody>\n",
       "    <tr>\n",
       "      <th>0</th>\n",
       "      <td>0</td>\n",
       "      <td>0.270533</td>\n",
       "      <td>0.269522</td>\n",
       "      <td>0.267237</td>\n",
       "      <td>0.263333</td>\n",
       "      <td>0.275333</td>\n",
       "      <td>AABA</td>\n",
       "      <td>2013-01-02</td>\n",
       "    </tr>\n",
       "    <tr>\n",
       "      <th>1</th>\n",
       "      <td>0</td>\n",
       "      <td>0.238730</td>\n",
       "      <td>0.237522</td>\n",
       "      <td>0.239888</td>\n",
       "      <td>0.240502</td>\n",
       "      <td>0.248031</td>\n",
       "      <td>AAON</td>\n",
       "      <td>2013-01-02</td>\n",
       "    </tr>\n",
       "    <tr>\n",
       "      <th>2</th>\n",
       "      <td>0</td>\n",
       "      <td>0.424556</td>\n",
       "      <td>0.424768</td>\n",
       "      <td>0.429769</td>\n",
       "      <td>0.442628</td>\n",
       "      <td>0.445018</td>\n",
       "      <td>AAPL</td>\n",
       "      <td>2013-01-02</td>\n",
       "    </tr>\n",
       "    <tr>\n",
       "      <th>3</th>\n",
       "      <td>0</td>\n",
       "      <td>0.650667</td>\n",
       "      <td>0.648412</td>\n",
       "      <td>0.634492</td>\n",
       "      <td>0.631473</td>\n",
       "      <td>0.667839</td>\n",
       "      <td>AAWW</td>\n",
       "      <td>2013-01-02</td>\n",
       "    </tr>\n",
       "    <tr>\n",
       "      <th>4</th>\n",
       "      <td>0</td>\n",
       "      <td>0.766565</td>\n",
       "      <td>0.761693</td>\n",
       "      <td>0.759330</td>\n",
       "      <td>0.750061</td>\n",
       "      <td>0.788157</td>\n",
       "      <td>AAXJ</td>\n",
       "      <td>2013-01-02</td>\n",
       "    </tr>\n",
       "    <tr>\n",
       "      <th>...</th>\n",
       "      <td>...</td>\n",
       "      <td>...</td>\n",
       "      <td>...</td>\n",
       "      <td>...</td>\n",
       "      <td>...</td>\n",
       "      <td>...</td>\n",
       "      <td>...</td>\n",
       "      <td>...</td>\n",
       "    </tr>\n",
       "    <tr>\n",
       "      <th>1277365</th>\n",
       "      <td>1244</td>\n",
       "      <td>0.909992</td>\n",
       "      <td>0.918809</td>\n",
       "      <td>0.912345</td>\n",
       "      <td>0.922698</td>\n",
       "      <td>0.913021</td>\n",
       "      <td>ZBRA</td>\n",
       "      <td>2017-12-08</td>\n",
       "    </tr>\n",
       "    <tr>\n",
       "      <th>1277366</th>\n",
       "      <td>1244</td>\n",
       "      <td>0.660990</td>\n",
       "      <td>0.648907</td>\n",
       "      <td>0.636086</td>\n",
       "      <td>0.630816</td>\n",
       "      <td>0.665167</td>\n",
       "      <td>ZEUS</td>\n",
       "      <td>2017-12-08</td>\n",
       "    </tr>\n",
       "    <tr>\n",
       "      <th>1277367</th>\n",
       "      <td>1244</td>\n",
       "      <td>0.981600</td>\n",
       "      <td>0.961674</td>\n",
       "      <td>0.926768</td>\n",
       "      <td>0.914257</td>\n",
       "      <td>0.984345</td>\n",
       "      <td>ZION</td>\n",
       "      <td>2017-12-08</td>\n",
       "    </tr>\n",
       "    <tr>\n",
       "      <th>1277368</th>\n",
       "      <td>1244</td>\n",
       "      <td>0.980227</td>\n",
       "      <td>0.974903</td>\n",
       "      <td>0.960225</td>\n",
       "      <td>0.964956</td>\n",
       "      <td>0.997580</td>\n",
       "      <td>ZIV</td>\n",
       "      <td>2017-12-08</td>\n",
       "    </tr>\n",
       "    <tr>\n",
       "      <th>1277369</th>\n",
       "      <td>1244</td>\n",
       "      <td>0.509179</td>\n",
       "      <td>0.500725</td>\n",
       "      <td>0.475543</td>\n",
       "      <td>0.459018</td>\n",
       "      <td>0.512077</td>\n",
       "      <td>ZUMZ</td>\n",
       "      <td>2017-12-08</td>\n",
       "    </tr>\n",
       "  </tbody>\n",
       "</table>\n",
       "<p>1277370 rows × 8 columns</p>\n",
       "</div>"
      ],
      "text/plain": [
       "          day      open      high       low     close    volume   tic  \\\n",
       "0           0  0.270533  0.269522  0.267237  0.263333  0.275333  AABA   \n",
       "1           0  0.238730  0.237522  0.239888  0.240502  0.248031  AAON   \n",
       "2           0  0.424556  0.424768  0.429769  0.442628  0.445018  AAPL   \n",
       "3           0  0.650667  0.648412  0.634492  0.631473  0.667839  AAWW   \n",
       "4           0  0.766565  0.761693  0.759330  0.750061  0.788157  AAXJ   \n",
       "...       ...       ...       ...       ...       ...       ...   ...   \n",
       "1277365  1244  0.909992  0.918809  0.912345  0.922698  0.913021  ZBRA   \n",
       "1277366  1244  0.660990  0.648907  0.636086  0.630816  0.665167  ZEUS   \n",
       "1277367  1244  0.981600  0.961674  0.926768  0.914257  0.984345  ZION   \n",
       "1277368  1244  0.980227  0.974903  0.960225  0.964956  0.997580   ZIV   \n",
       "1277369  1244  0.509179  0.500725  0.475543  0.459018  0.512077  ZUMZ   \n",
       "\n",
       "               date  \n",
       "0        2013-01-02  \n",
       "1        2013-01-02  \n",
       "2        2013-01-02  \n",
       "3        2013-01-02  \n",
       "4        2013-01-02  \n",
       "...             ...  \n",
       "1277365  2017-12-08  \n",
       "1277366  2017-12-08  \n",
       "1277367  2017-12-08  \n",
       "1277368  2017-12-08  \n",
       "1277369  2017-12-08  \n",
       "\n",
       "[1277370 rows x 8 columns]"
      ]
     },
     "execution_count": 7,
     "metadata": {},
     "output_type": "execute_result"
    }
   ],
   "source": [
    "nasdaq = mcal.get_calendar(\"NASDAQ\")\n",
    "datetimes = nasdaq.valid_days(\"2013-01-02\", \"2017-12-08\")\n",
    "nasdaq_temporal[\"date\"] = nasdaq_temporal[\"day\"].apply(lambda day: datetimes[day]).dt.strftime(\"%Y-%m-%d\")\n",
    "nasdaq_temporal"
   ]
  },
  {
   "cell_type": "code",
   "execution_count": 8,
   "metadata": {
    "colab": {
     "base_uri": "https://localhost:8080/",
     "height": 623
    },
    "id": "Bkm96aNsSIji",
    "outputId": "e3a20095-841e-4c89-c08e-24b9575cfb02"
   },
   "outputs": [
    {
     "data": {
      "text/plain": [
       "array([[   0,   15,    0, ..., 1021, 1014, 1024],\n",
       "       [  15,    0,   18, ..., 1011, 1024, 1014]])"
      ]
     },
     "execution_count": 8,
     "metadata": {},
     "output_type": "execute_result"
    }
   ],
   "source": [
    "nasdaq_edge_index = np.load(\"Temporal_Relational_Stock_Ranking_FinRL/relational_data/edge_indexes/NASDAQ_sector_industry_edge_index.npy\")\n",
    "nasdaq_edge_index"
   ]
  },
  {
   "cell_type": "code",
   "execution_count": 9,
   "metadata": {},
   "outputs": [
    {
     "data": {
      "text/plain": [
       "array([ 0,  0,  0, ...,  1, 26, 26])"
      ]
     },
     "execution_count": 9,
     "metadata": {},
     "output_type": "execute_result"
    }
   ],
   "source": [
    "nasdaq_edge_type = np.load(\"Temporal_Relational_Stock_Ranking_FinRL/relational_data/edge_types/NASDAQ_sector_industry_edge_type.npy\")\n",
    "nasdaq_edge_type"
   ]
  },
  {
   "cell_type": "markdown",
   "metadata": {},
   "source": [
    "### Simplify Data\n",
    "\n",
    "The graph loaded is too big, causing the training process to be extremely slow. So we are going to remove some of the stocks in the graph structure so that only stocks from 2 hops of the ones in our portfolio are considered."
   ]
  },
  {
   "cell_type": "code",
   "execution_count": 10,
   "metadata": {},
   "outputs": [
    {
     "data": {
      "text/plain": [
       "[2, 185, 215, 310, 395, 464, 596, 603, 637, 768, 1014]"
      ]
     },
     "execution_count": 10,
     "metadata": {},
     "output_type": "execute_result"
    }
   ],
   "source": [
    "list_of_stocks = nasdaq_temporal[\"tic\"].unique().tolist()\n",
    "tics_in_portfolio = [\"AAPL\", \"CMCSA\", \"CSCO\", \"FB\", \"HBAN\", \"INTC\", \"MSFT\", \"MU\", \"NVDA\", \"QQQ\", \"XIV\"]\n",
    "\n",
    "portfolio_nodes = []\n",
    "for tic in tics_in_portfolio:\n",
    "    portfolio_nodes.append(list_of_stocks.index(tic))\n",
    "portfolio_nodes"
   ]
  },
  {
   "cell_type": "code",
   "execution_count": 11,
   "metadata": {},
   "outputs": [],
   "source": [
    "nodes_kept, new_edge_index, nodes_to_select, edge_mask = k_hop_subgraph(\n",
    "    torch.LongTensor(portfolio_nodes),\n",
    "    1,\n",
    "    torch.from_numpy(nasdaq_edge_index),\n",
    "    relabel_nodes=True,\n",
    ")"
   ]
  },
  {
   "cell_type": "code",
   "execution_count": 12,
   "metadata": {},
   "outputs": [
    {
     "data": {
      "text/html": [
       "<div>\n",
       "<style scoped>\n",
       "    .dataframe tbody tr th:only-of-type {\n",
       "        vertical-align: middle;\n",
       "    }\n",
       "\n",
       "    .dataframe tbody tr th {\n",
       "        vertical-align: top;\n",
       "    }\n",
       "\n",
       "    .dataframe thead th {\n",
       "        text-align: right;\n",
       "    }\n",
       "</style>\n",
       "<table border=\"1\" class=\"dataframe\">\n",
       "  <thead>\n",
       "    <tr style=\"text-align: right;\">\n",
       "      <th></th>\n",
       "      <th>day</th>\n",
       "      <th>open</th>\n",
       "      <th>high</th>\n",
       "      <th>low</th>\n",
       "      <th>close</th>\n",
       "      <th>volume</th>\n",
       "      <th>tic</th>\n",
       "      <th>date</th>\n",
       "    </tr>\n",
       "  </thead>\n",
       "  <tbody>\n",
       "    <tr>\n",
       "      <th>2</th>\n",
       "      <td>0</td>\n",
       "      <td>0.424556</td>\n",
       "      <td>0.424768</td>\n",
       "      <td>0.429769</td>\n",
       "      <td>0.442628</td>\n",
       "      <td>0.445018</td>\n",
       "      <td>AAPL</td>\n",
       "      <td>2013-01-02</td>\n",
       "    </tr>\n",
       "    <tr>\n",
       "      <th>4</th>\n",
       "      <td>0</td>\n",
       "      <td>0.766565</td>\n",
       "      <td>0.761693</td>\n",
       "      <td>0.759330</td>\n",
       "      <td>0.750061</td>\n",
       "      <td>0.788157</td>\n",
       "      <td>AAXJ</td>\n",
       "      <td>2013-01-02</td>\n",
       "    </tr>\n",
       "    <tr>\n",
       "      <th>7</th>\n",
       "      <td>0</td>\n",
       "      <td>0.244700</td>\n",
       "      <td>0.244212</td>\n",
       "      <td>0.238217</td>\n",
       "      <td>0.231041</td>\n",
       "      <td>0.251322</td>\n",
       "      <td>ABCB</td>\n",
       "      <td>2013-01-02</td>\n",
       "    </tr>\n",
       "    <tr>\n",
       "      <th>8</th>\n",
       "      <td>0</td>\n",
       "      <td>0.689403</td>\n",
       "      <td>0.698864</td>\n",
       "      <td>0.695715</td>\n",
       "      <td>0.675068</td>\n",
       "      <td>0.708124</td>\n",
       "      <td>ABCO</td>\n",
       "      <td>2013-01-02</td>\n",
       "    </tr>\n",
       "    <tr>\n",
       "      <th>13</th>\n",
       "      <td>0</td>\n",
       "      <td>0.566419</td>\n",
       "      <td>0.564621</td>\n",
       "      <td>0.563147</td>\n",
       "      <td>0.560503</td>\n",
       "      <td>0.579132</td>\n",
       "      <td>ACIW</td>\n",
       "      <td>2013-01-02</td>\n",
       "    </tr>\n",
       "    <tr>\n",
       "      <th>...</th>\n",
       "      <td>...</td>\n",
       "      <td>...</td>\n",
       "      <td>...</td>\n",
       "      <td>...</td>\n",
       "      <td>...</td>\n",
       "      <td>...</td>\n",
       "      <td>...</td>\n",
       "      <td>...</td>\n",
       "    </tr>\n",
       "    <tr>\n",
       "      <th>1277358</th>\n",
       "      <td>1244</td>\n",
       "      <td>0.923544</td>\n",
       "      <td>0.922537</td>\n",
       "      <td>0.896003</td>\n",
       "      <td>0.888519</td>\n",
       "      <td>0.966042</td>\n",
       "      <td>XIV</td>\n",
       "      <td>2017-12-08</td>\n",
       "    </tr>\n",
       "    <tr>\n",
       "      <th>1277359</th>\n",
       "      <td>1244</td>\n",
       "      <td>0.919490</td>\n",
       "      <td>0.931946</td>\n",
       "      <td>0.950966</td>\n",
       "      <td>0.960872</td>\n",
       "      <td>0.920000</td>\n",
       "      <td>XLNX</td>\n",
       "      <td>2017-12-08</td>\n",
       "    </tr>\n",
       "    <tr>\n",
       "      <th>1277361</th>\n",
       "      <td>1244</td>\n",
       "      <td>0.736906</td>\n",
       "      <td>0.747264</td>\n",
       "      <td>0.744030</td>\n",
       "      <td>0.745198</td>\n",
       "      <td>0.743781</td>\n",
       "      <td>YNDX</td>\n",
       "      <td>2017-12-08</td>\n",
       "    </tr>\n",
       "    <tr>\n",
       "      <th>1277367</th>\n",
       "      <td>1244</td>\n",
       "      <td>0.981600</td>\n",
       "      <td>0.961674</td>\n",
       "      <td>0.926768</td>\n",
       "      <td>0.914257</td>\n",
       "      <td>0.984345</td>\n",
       "      <td>ZION</td>\n",
       "      <td>2017-12-08</td>\n",
       "    </tr>\n",
       "    <tr>\n",
       "      <th>1277368</th>\n",
       "      <td>1244</td>\n",
       "      <td>0.980227</td>\n",
       "      <td>0.974903</td>\n",
       "      <td>0.960225</td>\n",
       "      <td>0.964956</td>\n",
       "      <td>0.997580</td>\n",
       "      <td>ZIV</td>\n",
       "      <td>2017-12-08</td>\n",
       "    </tr>\n",
       "  </tbody>\n",
       "</table>\n",
       "<p>517920 rows × 8 columns</p>\n",
       "</div>"
      ],
      "text/plain": [
       "          day      open      high       low     close    volume   tic  \\\n",
       "2           0  0.424556  0.424768  0.429769  0.442628  0.445018  AAPL   \n",
       "4           0  0.766565  0.761693  0.759330  0.750061  0.788157  AAXJ   \n",
       "7           0  0.244700  0.244212  0.238217  0.231041  0.251322  ABCB   \n",
       "8           0  0.689403  0.698864  0.695715  0.675068  0.708124  ABCO   \n",
       "13          0  0.566419  0.564621  0.563147  0.560503  0.579132  ACIW   \n",
       "...       ...       ...       ...       ...       ...       ...   ...   \n",
       "1277358  1244  0.923544  0.922537  0.896003  0.888519  0.966042   XIV   \n",
       "1277359  1244  0.919490  0.931946  0.950966  0.960872  0.920000  XLNX   \n",
       "1277361  1244  0.736906  0.747264  0.744030  0.745198  0.743781  YNDX   \n",
       "1277367  1244  0.981600  0.961674  0.926768  0.914257  0.984345  ZION   \n",
       "1277368  1244  0.980227  0.974903  0.960225  0.964956  0.997580   ZIV   \n",
       "\n",
       "               date  \n",
       "2        2013-01-02  \n",
       "4        2013-01-02  \n",
       "7        2013-01-02  \n",
       "8        2013-01-02  \n",
       "13       2013-01-02  \n",
       "...             ...  \n",
       "1277358  2017-12-08  \n",
       "1277359  2017-12-08  \n",
       "1277361  2017-12-08  \n",
       "1277367  2017-12-08  \n",
       "1277368  2017-12-08  \n",
       "\n",
       "[517920 rows x 8 columns]"
      ]
     },
     "execution_count": 12,
     "metadata": {},
     "output_type": "execute_result"
    }
   ],
   "source": [
    "# reduce temporal data\n",
    "nodes_kept = nodes_kept.tolist()\n",
    "nasdaq_temporal[\"tic_id\"], _ = pd.factorize(nasdaq_temporal[\"tic\"], sort=True)\n",
    "nasdaq_temporal = nasdaq_temporal[nasdaq_temporal[\"tic_id\"].isin(nodes_kept)]\n",
    "nasdaq_temporal = nasdaq_temporal.drop(columns=\"tic_id\")\n",
    "nasdaq_temporal"
   ]
  },
  {
   "cell_type": "code",
   "execution_count": 13,
   "metadata": {},
   "outputs": [
    {
     "data": {
      "text/plain": [
       "tensor([0, 0, 0,  ..., 2, 6, 6])"
      ]
     },
     "execution_count": 13,
     "metadata": {},
     "output_type": "execute_result"
    }
   ],
   "source": [
    "# reduce edge type\n",
    "new_edge_type = torch.from_numpy(nasdaq_edge_type)[edge_mask]\n",
    "_, new_edge_type = torch.unique(new_edge_type, return_inverse=True)\n",
    "new_edge_type"
   ]
  },
  {
   "cell_type": "markdown",
   "metadata": {
    "id": "pM829994GWo3"
   },
   "source": [
    "### Instantiate Environment\n",
    "\n",
    "Using the `PortfolioOptimizationEnv`, it's easy to instantiate a portfolio optimization environment for reinforcement learning agents. In the example below, we use the dataframe created before to start an environment."
   ]
  },
  {
   "cell_type": "code",
   "execution_count": 14,
   "metadata": {},
   "outputs": [],
   "source": [
    "df_portfolio = nasdaq_temporal[[\"date\", \"day\", \"tic\", \"close\", \"high\", \"low\"]]\n",
    "\n",
    "df_portfolio_train = df_portfolio[df_portfolio[\"day\"] < 979]\n",
    "\n",
    "# In the test period, the dataframe must have 50 more items so that the agent\n",
    "# can take action in the first day of the testing set. \n",
    "df_portfolio_test = df_portfolio[df_portfolio[\"day\"] >= 929]\n",
    "\n",
    "environment_train = PortfolioOptimizationEnv(\n",
    "        df_portfolio_train,\n",
    "        initial_amount=100000,\n",
    "        comission_fee_pct=0.0025,\n",
    "        state_normalization=\"by_last_close\",\n",
    "        time_window=50,\n",
    "        features=[\"close\", \"high\", \"low\"],\n",
    "        time_column=\"date\",\n",
    "        time_format=\"%Y-%m-%d\",\n",
    "        tics_in_portfolio=tics_in_portfolio,\n",
    "        print_metrics=False,\n",
    "        plot_graphs=False,\n",
    "    )\n",
    "\n",
    "environment_test = PortfolioOptimizationEnv(\n",
    "        df_portfolio_test,\n",
    "        initial_amount=100000,\n",
    "        comission_fee_pct=0.0025,\n",
    "        state_normalization=\"by_last_close\",\n",
    "        time_window=50,\n",
    "        features=[\"close\", \"high\", \"low\"],\n",
    "        time_column=\"date\",\n",
    "        time_format=\"%Y-%m-%d\",\n",
    "        tics_in_portfolio=tics_in_portfolio,\n",
    "        print_metrics=False,\n",
    "        plot_graphs=False,\n",
    "    )"
   ]
  },
  {
   "cell_type": "markdown",
   "metadata": {},
   "source": [
    "### Instantiate Model\n",
    "\n",
    "Now, we can instantiate the model using FinRL API. In this example, we are going to use the EI3 architecture introduced by Jiang et. al.\n",
    "\n",
    ":exclamation: **Note:** Remember to set the architecture's `time_window` parameter with the same value of the environment's `time_window`."
   ]
  },
  {
   "cell_type": "code",
   "execution_count": 19,
   "metadata": {
    "colab": {
     "base_uri": "https://localhost:8080/",
     "height": 1000,
     "referenced_widgets": [
      "750b2ea28d2a439db3fc5034927dbce2",
      "c172e120fc5e4f9ab13bf8599d868b5f",
      "4b2aa7128c5d4d15bb794eb76faccd6a",
      "317393fb13c0449abfff29a4949553a0",
      "8cb75a82e5374c51b1f47a6e15783177",
      "9cb3d937be5d4f7cac192b392218ef37",
      "b27b9cc333ac44a5bb2cec60d02f16c0",
      "6a1187acb99d44c68e27cd5aad879ff1",
      "6a5c9dbaddc441d390d4827c170cbe9c",
      "1f84695a1caf4c80b29eb5eea90bb29a",
      "a7a6884bfdb642b9b342f7cda49d7d67"
     ]
    },
    "id": "wr82W3E0uQSo",
    "outputId": "61dcf1f5-7cf0-40b2-85bd-3f7dd943ddc6",
    "scrolled": true
   },
   "outputs": [],
   "source": [
    "# set PolicyGradient parameters\n",
    "model_kwargs = {\n",
    "    \"lr\": 5e-5,\n",
    "    \"sample_bias\": 0.001,\n",
    "}\n",
    "\n",
    "# here, we can set GPM's parameters\n",
    "policy_kwargs = {\n",
    "    \"edge_index\": new_edge_index,\n",
    "    \"edge_type\": new_edge_type,\n",
    "    \"nodes_to_select\": nodes_to_select\n",
    "}\n",
    "\n",
    "model = DRLAgent(environment_train).get_model(\"pg\", \"gpm\", model_kwargs, policy_kwargs, device)"
   ]
  },
  {
   "cell_type": "markdown",
   "metadata": {},
   "source": [
    "### Train Model"
   ]
  },
  {
   "cell_type": "code",
   "execution_count": 20,
   "metadata": {},
   "outputs": [
    {
     "name": "stderr",
     "output_type": "stream",
     "text": [
      "Completed: 100%|\u001b[32m██████████\u001b[0m| 2000/2000 [1:48:55<00:00,  3.27s/step, fapv=4.47, mdd=-0.143, sharpe=0.427, val_fapv=1.42, val_mdd=-0.0618, val_sharpe=0.733]       \n"
     ]
    },
    {
     "data": {
      "text/plain": [
       "<rlportfolio.algorithm.policy_gradient.PolicyGradient at 0x33a0cca30>"
      ]
     },
     "execution_count": 20,
     "metadata": {},
     "output_type": "execute_result"
    }
   ],
   "source": [
    "DRLAgent.train_model(\n",
    "    model, 2000, val_env=environment_test, val_gradient_steps=30\n",
    ")"
   ]
  },
  {
   "cell_type": "code",
   "execution_count": 32,
   "metadata": {},
   "outputs": [
    {
     "data": {
      "text/html": [
       "<div>\n",
       "<style scoped>\n",
       "    .dataframe tbody tr th:only-of-type {\n",
       "        vertical-align: middle;\n",
       "    }\n",
       "\n",
       "    .dataframe tbody tr th {\n",
       "        vertical-align: top;\n",
       "    }\n",
       "\n",
       "    .dataframe thead th {\n",
       "        text-align: right;\n",
       "    }\n",
       "</style>\n",
       "<table border=\"1\" class=\"dataframe\">\n",
       "  <thead>\n",
       "    <tr style=\"text-align: right;\">\n",
       "      <th></th>\n",
       "      <th>day</th>\n",
       "      <th>open</th>\n",
       "      <th>high</th>\n",
       "      <th>low</th>\n",
       "      <th>close</th>\n",
       "      <th>volume</th>\n",
       "      <th>tic</th>\n",
       "      <th>date</th>\n",
       "    </tr>\n",
       "  </thead>\n",
       "  <tbody>\n",
       "    <tr>\n",
       "      <th>2</th>\n",
       "      <td>0</td>\n",
       "      <td>0.424556</td>\n",
       "      <td>0.424768</td>\n",
       "      <td>0.429769</td>\n",
       "      <td>0.442628</td>\n",
       "      <td>0.445018</td>\n",
       "      <td>AAPL</td>\n",
       "      <td>2013-01-02</td>\n",
       "    </tr>\n",
       "    <tr>\n",
       "      <th>4</th>\n",
       "      <td>0</td>\n",
       "      <td>0.766565</td>\n",
       "      <td>0.761693</td>\n",
       "      <td>0.759330</td>\n",
       "      <td>0.750061</td>\n",
       "      <td>0.788157</td>\n",
       "      <td>AAXJ</td>\n",
       "      <td>2013-01-02</td>\n",
       "    </tr>\n",
       "    <tr>\n",
       "      <th>7</th>\n",
       "      <td>0</td>\n",
       "      <td>0.244700</td>\n",
       "      <td>0.244212</td>\n",
       "      <td>0.238217</td>\n",
       "      <td>0.231041</td>\n",
       "      <td>0.251322</td>\n",
       "      <td>ABCB</td>\n",
       "      <td>2013-01-02</td>\n",
       "    </tr>\n",
       "    <tr>\n",
       "      <th>8</th>\n",
       "      <td>0</td>\n",
       "      <td>0.689403</td>\n",
       "      <td>0.698864</td>\n",
       "      <td>0.695715</td>\n",
       "      <td>0.675068</td>\n",
       "      <td>0.708124</td>\n",
       "      <td>ABCO</td>\n",
       "      <td>2013-01-02</td>\n",
       "    </tr>\n",
       "    <tr>\n",
       "      <th>13</th>\n",
       "      <td>0</td>\n",
       "      <td>0.566419</td>\n",
       "      <td>0.564621</td>\n",
       "      <td>0.563147</td>\n",
       "      <td>0.560503</td>\n",
       "      <td>0.579132</td>\n",
       "      <td>ACIW</td>\n",
       "      <td>2013-01-02</td>\n",
       "    </tr>\n",
       "    <tr>\n",
       "      <th>...</th>\n",
       "      <td>...</td>\n",
       "      <td>...</td>\n",
       "      <td>...</td>\n",
       "      <td>...</td>\n",
       "      <td>...</td>\n",
       "      <td>...</td>\n",
       "      <td>...</td>\n",
       "      <td>...</td>\n",
       "    </tr>\n",
       "    <tr>\n",
       "      <th>1277358</th>\n",
       "      <td>1244</td>\n",
       "      <td>0.923544</td>\n",
       "      <td>0.922537</td>\n",
       "      <td>0.896003</td>\n",
       "      <td>0.888519</td>\n",
       "      <td>0.966042</td>\n",
       "      <td>XIV</td>\n",
       "      <td>2017-12-08</td>\n",
       "    </tr>\n",
       "    <tr>\n",
       "      <th>1277359</th>\n",
       "      <td>1244</td>\n",
       "      <td>0.919490</td>\n",
       "      <td>0.931946</td>\n",
       "      <td>0.950966</td>\n",
       "      <td>0.960872</td>\n",
       "      <td>0.920000</td>\n",
       "      <td>XLNX</td>\n",
       "      <td>2017-12-08</td>\n",
       "    </tr>\n",
       "    <tr>\n",
       "      <th>1277361</th>\n",
       "      <td>1244</td>\n",
       "      <td>0.736906</td>\n",
       "      <td>0.747264</td>\n",
       "      <td>0.744030</td>\n",
       "      <td>0.745198</td>\n",
       "      <td>0.743781</td>\n",
       "      <td>YNDX</td>\n",
       "      <td>2017-12-08</td>\n",
       "    </tr>\n",
       "    <tr>\n",
       "      <th>1277367</th>\n",
       "      <td>1244</td>\n",
       "      <td>0.981600</td>\n",
       "      <td>0.961674</td>\n",
       "      <td>0.926768</td>\n",
       "      <td>0.914257</td>\n",
       "      <td>0.984345</td>\n",
       "      <td>ZION</td>\n",
       "      <td>2017-12-08</td>\n",
       "    </tr>\n",
       "    <tr>\n",
       "      <th>1277368</th>\n",
       "      <td>1244</td>\n",
       "      <td>0.980227</td>\n",
       "      <td>0.974903</td>\n",
       "      <td>0.960225</td>\n",
       "      <td>0.964956</td>\n",
       "      <td>0.997580</td>\n",
       "      <td>ZIV</td>\n",
       "      <td>2017-12-08</td>\n",
       "    </tr>\n",
       "  </tbody>\n",
       "</table>\n",
       "<p>517920 rows × 8 columns</p>\n",
       "</div>"
      ],
      "text/plain": [
       "          day      open      high       low     close    volume   tic  \\\n",
       "2           0  0.424556  0.424768  0.429769  0.442628  0.445018  AAPL   \n",
       "4           0  0.766565  0.761693  0.759330  0.750061  0.788157  AAXJ   \n",
       "7           0  0.244700  0.244212  0.238217  0.231041  0.251322  ABCB   \n",
       "8           0  0.689403  0.698864  0.695715  0.675068  0.708124  ABCO   \n",
       "13          0  0.566419  0.564621  0.563147  0.560503  0.579132  ACIW   \n",
       "...       ...       ...       ...       ...       ...       ...   ...   \n",
       "1277358  1244  0.923544  0.922537  0.896003  0.888519  0.966042   XIV   \n",
       "1277359  1244  0.919490  0.931946  0.950966  0.960872  0.920000  XLNX   \n",
       "1277361  1244  0.736906  0.747264  0.744030  0.745198  0.743781  YNDX   \n",
       "1277367  1244  0.981600  0.961674  0.926768  0.914257  0.984345  ZION   \n",
       "1277368  1244  0.980227  0.974903  0.960225  0.964956  0.997580   ZIV   \n",
       "\n",
       "               date  \n",
       "2        2013-01-02  \n",
       "4        2013-01-02  \n",
       "7        2013-01-02  \n",
       "8        2013-01-02  \n",
       "13       2013-01-02  \n",
       "...             ...  \n",
       "1277358  2017-12-08  \n",
       "1277359  2017-12-08  \n",
       "1277361  2017-12-08  \n",
       "1277367  2017-12-08  \n",
       "1277368  2017-12-08  \n",
       "\n",
       "[517920 rows x 8 columns]"
      ]
     },
     "execution_count": 32,
     "metadata": {},
     "output_type": "execute_result"
    }
   ],
   "source": [
    "import pandas_market_calendars as mcal\n",
    "\n",
    "nasdaq = mcal.get_calendar(\"NASDAQ\")\n",
    "datetimes = nasdaq.valid_days(\"2013-01-02\", \"2017-12-08\")\n",
    "nasdaq_temporal[\"date\"] = nasdaq_temporal[\"day\"].apply(lambda day: datetimes[day]).dt.strftime(\"%Y-%m-%d\")\n",
    "nasdaq_temporal\n",
    "# pd.to_datetime(nasdaq_temporal[\"day\"], unit=)"
   ]
  },
  {
   "cell_type": "markdown",
   "metadata": {
    "id": "JE7X3qEeXOr4"
   },
   "source": [
    "### Save Model"
   ]
  },
  {
   "cell_type": "code",
   "execution_count": 21,
   "metadata": {
    "id": "YcWuPgPvXNpP"
   },
   "outputs": [],
   "source": [
    "torch.save(model.train_policy.state_dict(), \"policy_GPM.pt\")"
   ]
  },
  {
   "cell_type": "markdown",
   "metadata": {
    "id": "7FRK9A98XVck"
   },
   "source": [
    "## Test Model"
   ]
  },
  {
   "cell_type": "markdown",
   "metadata": {
    "id": "pstJ-uY1_7VY"
   },
   "source": [
    "Following the idea from the original article, we will evaluate the performance of the trained model in the test period. We will also compare with the Uniform buy and hold strategy."
   ]
  },
  {
   "cell_type": "markdown",
   "metadata": {
    "id": "Y4RuS2pRAa4H"
   },
   "source": [
    "### Test GPM architecture\n",
    "\n",
    "It's important no note that, in this code, we load the saved policy even though it's not necessary just to show how to save and load your model."
   ]
  },
  {
   "cell_type": "code",
   "execution_count": 22,
   "metadata": {
    "id": "JeRy__TI9CAs"
   },
   "outputs": [],
   "source": [
    "GPM_results = {\n",
    "    \"train\": environment_train._asset_memory[\"final\"],\n",
    "    \"test\": environment_test._asset_memory[\"final\"],\n",
    "}"
   ]
  },
  {
   "cell_type": "markdown",
   "metadata": {
    "id": "LZc5PpbaBU-J"
   },
   "source": [
    "### Test Uniform Buy and Hold\n",
    "For comparison, we will also test the performance of a uniform buy and hold strategy. In this strategy, the portfolio has no remaining cash and the same percentage of money is allocated in each asset."
   ]
  },
  {
   "cell_type": "code",
   "execution_count": 26,
   "metadata": {
    "id": "ntHO_UIs-83T"
   },
   "outputs": [],
   "source": [
    "UBAH_results = {}\n",
    "\n",
    "PORTFOLIO_SIZE = len(tics_in_portfolio)\n",
    "\n",
    "# train period\n",
    "terminated = False\n",
    "environment_train.reset()\n",
    "action = None\n",
    "while not terminated:\n",
    "    if action is None:\n",
    "        action = [0] + [1 / PORTFOLIO_SIZE] * PORTFOLIO_SIZE\n",
    "    else:\n",
    "        action = environment_train._final_weights[-1]\n",
    "    _, _, terminated, _, _ = environment_train.step(action)\n",
    "UBAH_results[\"train\"] = environment_train._asset_memory[\"final\"]\n",
    "\n",
    "# test period\n",
    "terminated = False\n",
    "environment_test.reset()\n",
    "action = None\n",
    "while not terminated:\n",
    "    if action is None:\n",
    "        action = [0] + [1 / PORTFOLIO_SIZE] * PORTFOLIO_SIZE\n",
    "    else:\n",
    "        action = environment_test._final_weights[-1]\n",
    "    _, _, terminated, _, _ = environment_test.step(action)\n",
    "UBAH_results[\"test\"] = environment_test._asset_memory[\"final\"]"
   ]
  },
  {
   "cell_type": "markdown",
   "metadata": {
    "id": "kBMM7hAHC6rq"
   },
   "source": [
    "### Plot graphics"
   ]
  },
  {
   "cell_type": "code",
   "execution_count": 27,
   "metadata": {
    "id": "n8YrDNpeC71w"
   },
   "outputs": [
    {
     "data": {
      "image/png": "[encoded data removed]",
      "text/plain": [
       "<Figure size 1000x600 with 1 Axes>"
      ]
     },
     "metadata": {},
     "output_type": "display_data"
    }
   ],
   "source": [
    "import matplotlib.pyplot as plt\n",
    "%matplotlib inline \n",
    "\n",
    "plt.plot(UBAH_results[\"train\"], label=\"Buy and Hold\")\n",
    "plt.plot(GPM_results[\"train\"], label=\"GPM\")\n",
    "\n",
    "plt.xlabel(\"Days\")\n",
    "plt.ylabel(\"Portfolio Value\")\n",
    "plt.title(\"Performance in training period\")\n",
    "plt.legend()\n",
    "\n",
    "plt.show()"
   ]
  },
  {
   "cell_type": "code",
   "execution_count": 28,
   "metadata": {
    "id": "dQniascoDIH2"
   },
   "outputs": [
    {
     "data": {
      "image/png": "[encoded data removed]",
      "text/plain": [
       "<Figure size 1000x600 with 1 Axes>"
      ]
     },
     "metadata": {},
     "output_type": "display_data"
    }
   ],
   "source": [
    "plt.plot(UBAH_results[\"test\"], label=\"Buy and Hold\")\n",
    "plt.plot(GPM_results[\"test\"], label=\"GPM\")\n",
    "\n",
    "plt.xlabel(\"Days\")\n",
    "plt.ylabel(\"Portfolio Value\")\n",
    "plt.title(\"Performance in testing period\")\n",
    "plt.legend()\n",
    "\n",
    "plt.show()"
   ]
  },
  {
   "cell_type": "markdown",
   "metadata": {},
   "source": [
    "With only two training episodes, we can see that GPM achieves better performance than buy and hold strategy, but according to the original article, that performance could be better. Hyperparameter tuning must be performed. Additionaly, we used softmax temperature equal to one, something that can be changed to achieve better performance as stated in the original article."
   ]
  }
 ],
 "metadata": {
  "accelerator": "GPU",
  "colab": {
   "gpuType": "T4",
   "provenance": []
  },
  "kernelspec": {
   "display_name": "finrl",
   "language": "python",
   "name": "python3"
  },
  "language_info": {
   "codemirror_mode": {
    "name": "ipython",
    "version": 3
   },
   "file_extension": ".py",
   "mimetype": "text/x-python",
   "name": "python",
   "nbconvert_exporter": "python",
   "pygments_lexer": "ipython3",
   "version": "3.10.16"
  },
  "widgets": {
   "application/vnd.jupyter.widget-state+json": {
    "1f84695a1caf4c80b29eb5eea90bb29a": {
     "model_module": "@jupyter-widgets/base",
     "model_module_version": "1.2.0",
     "model_name": "LayoutModel",
     "state": {
      "_model_module": "@jupyter-widgets/base",
      "_model_module_version": "1.2.0",
      "_model_name": "LayoutModel",
      "_view_count": null,
      "_view_module": "@jupyter-widgets/base",
      "_view_module_version": "1.2.0",
      "_view_name": "LayoutView",
      "align_content": null,
      "align_items": null,
      "align_self": null,
      "border": null,
      "bottom": null,
      "display": null,
      "flex": null,
      "flex_flow": null,
      "grid_area": null,
      "grid_auto_columns": null,
      "grid_auto_flow": null,
      "grid_auto_rows": null,
      "grid_column": null,
      "grid_gap": null,
      "grid_row": null,
      "grid_template_areas": null,
      "grid_template_columns": null,
      "grid_template_rows": null,
      "height": null,
      "justify_content": null,
      "justify_items": null,
      "left": null,
      "margin": null,
      "max_height": null,
      "max_width": null,
      "min_height": null,
      "min_width": null,
      "object_fit": null,
      "object_position": null,
      "order": null,
      "overflow": null,
      "overflow_x": null,
      "overflow_y": null,
      "padding": null,
      "right": null,
      "top": null,
      "visibility": null,
      "width": null
     }
    },
    "317393fb13c0449abfff29a4949553a0": {
     "model_module": "@jupyter-widgets/controls",
     "model_module_version": "1.5.0",
     "model_name": "HTMLModel",
     "state": {
      "_dom_classes": [],
      "_model_module": "@jupyter-widgets/controls",
      "_model_module_version": "1.5.0",
      "_model_name": "HTMLModel",
      "_view_count": null,
      "_view_module": "@jupyter-widgets/controls",
      "_view_module_version": "1.5.0",
      "_view_name": "HTMLView",
      "description": "",
      "description_tooltip": null,
      "layout": "IPY_MODEL_1f84695a1caf4c80b29eb5eea90bb29a",
      "placeholder": "​",
      "style": "IPY_MODEL_a7a6884bfdb642b9b342f7cda49d7d67",
      "value": " 10/250 [05:53&lt;2:10:07, 32.53s/it]"
     }
    },
    "4b2aa7128c5d4d15bb794eb76faccd6a": {
     "model_module": "@jupyter-widgets/controls",
     "model_module_version": "1.5.0",
     "model_name": "FloatProgressModel",
     "state": {
      "_dom_classes": [],
      "_model_module": "@jupyter-widgets/controls",
      "_model_module_version": "1.5.0",
      "_model_name": "FloatProgressModel",
      "_view_count": null,
      "_view_module": "@jupyter-widgets/controls",
      "_view_module_version": "1.5.0",
      "_view_name": "ProgressView",
      "bar_style": "danger",
      "description": "",
      "description_tooltip": null,
      "layout": "IPY_MODEL_6a1187acb99d44c68e27cd5aad879ff1",
      "max": 250,
      "min": 0,
      "orientation": "horizontal",
      "style": "IPY_MODEL_6a5c9dbaddc441d390d4827c170cbe9c",
      "value": 10
     }
    },
    "6a1187acb99d44c68e27cd5aad879ff1": {
     "model_module": "@jupyter-widgets/base",
     "model_module_version": "1.2.0",
     "model_name": "LayoutModel",
     "state": {
      "_model_module": "@jupyter-widgets/base",
      "_model_module_version": "1.2.0",
      "_model_name": "LayoutModel",
      "_view_count": null,
      "_view_module": "@jupyter-widgets/base",
      "_view_module_version": "1.2.0",
      "_view_name": "LayoutView",
      "align_content": null,
      "align_items": null,
      "align_self": null,
      "border": null,
      "bottom": null,
      "display": null,
      "flex": null,
      "flex_flow": null,
      "grid_area": null,
      "grid_auto_columns": null,
      "grid_auto_flow": null,
      "grid_auto_rows": null,
      "grid_column": null,
      "grid_gap": null,
      "grid_row": null,
      "grid_template_areas": null,
      "grid_template_columns": null,
      "grid_template_rows": null,
      "height": null,
      "justify_content": null,
      "justify_items": null,
      "left": null,
      "margin": null,
      "max_height": null,
      "max_width": null,
      "min_height": null,
      "min_width": null,
      "object_fit": null,
      "object_position": null,
      "order": null,
      "overflow": null,
      "overflow_x": null,
      "overflow_y": null,
      "padding": null,
      "right": null,
      "top": null,
      "visibility": null,
      "width": null
     }
    },
    "6a5c9dbaddc441d390d4827c170cbe9c": {
     "model_module": "@jupyter-widgets/controls",
     "model_module_version": "1.5.0",
     "model_name": "ProgressStyleModel",
     "state": {
      "_model_module": "@jupyter-widgets/controls",
      "_model_module_version": "1.5.0",
      "_model_name": "ProgressStyleModel",
      "_view_count": null,
      "_view_module": "@jupyter-widgets/base",
      "_view_module_version": "1.2.0",
      "_view_name": "StyleView",
      "bar_color": null,
      "description_width": ""
     }
    },
    "750b2ea28d2a439db3fc5034927dbce2": {
     "model_module": "@jupyter-widgets/controls",
     "model_module_version": "1.5.0",
     "model_name": "HBoxModel",
     "state": {
      "_dom_classes": [],
      "_model_module": "@jupyter-widgets/controls",
      "_model_module_version": "1.5.0",
      "_model_name": "HBoxModel",
      "_view_count": null,
      "_view_module": "@jupyter-widgets/controls",
      "_view_module_version": "1.5.0",
      "_view_name": "HBoxView",
      "box_style": "",
      "children": [
       "IPY_MODEL_c172e120fc5e4f9ab13bf8599d868b5f",
       "IPY_MODEL_4b2aa7128c5d4d15bb794eb76faccd6a",
       "IPY_MODEL_317393fb13c0449abfff29a4949553a0"
      ],
      "layout": "IPY_MODEL_8cb75a82e5374c51b1f47a6e15783177"
     }
    },
    "8cb75a82e5374c51b1f47a6e15783177": {
     "model_module": "@jupyter-widgets/base",
     "model_module_version": "1.2.0",
     "model_name": "LayoutModel",
     "state": {
      "_model_module": "@jupyter-widgets/base",
      "_model_module_version": "1.2.0",
      "_model_name": "LayoutModel",
      "_view_count": null,
      "_view_module": "@jupyter-widgets/base",
      "_view_module_version": "1.2.0",
      "_view_name": "LayoutView",
      "align_content": null,
      "align_items": null,
      "align_self": null,
      "border": null,
      "bottom": null,
      "display": null,
      "flex": null,
      "flex_flow": null,
      "grid_area": null,
      "grid_auto_columns": null,
      "grid_auto_flow": null,
      "grid_auto_rows": null,
      "grid_column": null,
      "grid_gap": null,
      "grid_row": null,
      "grid_template_areas": null,
      "grid_template_columns": null,
      "grid_template_rows": null,
      "height": null,
      "justify_content": null,
      "justify_items": null,
      "left": null,
      "margin": null,
      "max_height": null,
      "max_width": null,
      "min_height": null,
      "min_width": null,
      "object_fit": null,
      "object_position": null,
      "order": null,
      "overflow": null,
      "overflow_x": null,
      "overflow_y": null,
      "padding": null,
      "right": null,
      "top": null,
      "visibility": null,
      "width": null
     }
    },
    "9cb3d937be5d4f7cac192b392218ef37": {
     "model_module": "@jupyter-widgets/base",
     "model_module_version": "1.2.0",
     "model_name": "LayoutModel",
     "state": {
      "_model_module": "@jupyter-widgets/base",
      "_model_module_version": "1.2.0",
      "_model_name": "LayoutModel",
      "_view_count": null,
      "_view_module": "@jupyter-widgets/base",
      "_view_module_version": "1.2.0",
      "_view_name": "LayoutView",
      "align_content": null,
      "align_items": null,
      "align_self": null,
      "border": null,
      "bottom": null,
      "display": null,
      "flex": null,
      "flex_flow": null,
      "grid_area": null,
      "grid_auto_columns": null,
      "grid_auto_flow": null,
      "grid_auto_rows": null,
      "grid_column": null,
      "grid_gap": null,
      "grid_row": null,
      "grid_template_areas": null,
      "grid_template_columns": null,
      "grid_template_rows": null,
      "height": null,
      "justify_content": null,
      "justify_items": null,
      "left": null,
      "margin": null,
      "max_height": null,
      "max_width": null,
      "min_height": null,
      "min_width": null,
      "object_fit": null,
      "object_position": null,
      "order": null,
      "overflow": null,
      "overflow_x": null,
      "overflow_y": null,
      "padding": null,
      "right": null,
      "top": null,
      "visibility": null,
      "width": null
     }
    },
    "a7a6884bfdb642b9b342f7cda49d7d67": {
     "model_module": "@jupyter-widgets/controls",
     "model_module_version": "1.5.0",
     "model_name": "DescriptionStyleModel",
     "state": {
      "_model_module": "@jupyter-widgets/controls",
      "_model_module_version": "1.5.0",
      "_model_name": "DescriptionStyleModel",
      "_view_count": null,
      "_view_module": "@jupyter-widgets/base",
      "_view_module_version": "1.2.0",
      "_view_name": "StyleView",
      "description_width": ""
     }
    },
    "b27b9cc333ac44a5bb2cec60d02f16c0": {
     "model_module": "@jupyter-widgets/controls",
     "model_module_version": "1.5.0",
     "model_name": "DescriptionStyleModel",
     "state": {
      "_model_module": "@jupyter-widgets/controls",
      "_model_module_version": "1.5.0",
      "_model_name": "DescriptionStyleModel",
      "_view_count": null,
      "_view_module": "@jupyter-widgets/base",
      "_view_module_version": "1.2.0",
      "_view_name": "StyleView",
      "description_width": ""
     }
    },
    "c172e120fc5e4f9ab13bf8599d868b5f": {
     "model_module": "@jupyter-widgets/controls",
     "model_module_version": "1.5.0",
     "model_name": "HTMLModel",
     "state": {
      "_dom_classes": [],
      "_model_module": "@jupyter-widgets/controls",
      "_model_module_version": "1.5.0",
      "_model_name": "HTMLModel",
      "_view_count": null,
      "_view_module": "@jupyter-widgets/controls",
      "_view_module_version": "1.5.0",
      "_view_name": "HTMLView",
      "description": "",
      "description_tooltip": null,
      "layout": "IPY_MODEL_9cb3d937be5d4f7cac192b392218ef37",
      "placeholder": "​",
      "style": "IPY_MODEL_b27b9cc333ac44a5bb2cec60d02f16c0",
      "value": "  4%"
     }
    }
   }
  }
 },
 "nbformat": 4,
 "nbformat_minor": 4
}
