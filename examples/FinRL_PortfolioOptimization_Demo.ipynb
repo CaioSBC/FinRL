{
 "cells": [
  {
   "cell_type": "markdown",
   "metadata": {
    "id": "3xt6fIDownZs"
   },
   "source": [
    "# A guide Portfolio Optimization\n",
    "\n",
    "This notebook aims to provide an example of using PortfolioOptimizationEnv (or POE) and [RLPortfolio](https://github.com/CaioSBC/RLPortfolio) to train a reinforcement learning model that learns to solve the portfolio optimization problem.\n",
    "\n",
    "In this document, we will train an agent that implements a famous architecture called EIIE (ensemble of identical independent evaluators), introduced in the following paper:\n",
    "\n",
    "- Zhengyao Jiang, Dixing Xu, & Jinjun Liang. (2017). A Deep Reinforcement Learning Framework for the Financial Portfolio Management Problem. https://doi.org/10.48550/arXiv.1706.10059.\n",
    "\n",
    "It's advisable to read it to understand the algorithm implemented in this notebook.\n",
    "\n",
    "### Note\n",
    "If you're using POE or [RLPortfolio](https://github.com/CaioSBC/RLPortfolio), consider citing the library and the following paper (in adittion to FinRL references):\n",
    "\n",
    "- Caio Costa, & Anna Costa (2023). POE: A General Portfolio Optimization Environment for FinRL. In *Anais do II Brazilian Workshop on Artificial Intelligence in Finance* (pp. 132–143). SBC. https://doi.org/10.5753/bwaif.2023.231144.\n",
    "\n",
    "```\n",
    "@inproceedings{bwaif,\n",
    " author = {Caio Costa and Anna Costa},\n",
    " title = {POE: A General Portfolio Optimization Environment for FinRL},\n",
    " booktitle = {Anais do II Brazilian Workshop on Artificial Intelligence in Finance},\n",
    " location = {João Pessoa/PB},\n",
    " year = {2023},\n",
    " keywords = {},\n",
    " issn = {0000-0000},\n",
    " pages = {132--143},\n",
    " publisher = {SBC},\n",
    " address = {Porto Alegre, RS, Brasil},\n",
    " doi = {10.5753/bwaif.2023.231144},\n",
    " url = {https://sol.sbc.org.br/index.php/bwaif/article/view/24959}\n",
    "}\n",
    "\n",
    "```"
   ]
  },
  {
   "cell_type": "markdown",
   "metadata": {
    "id": "Q0L7FZeWMUHp"
   },
   "source": [
    "## Installation and imports\n",
    "\n",
    "To run this notebook in google colab, uncomment the cells below."
   ]
  },
  {
   "cell_type": "code",
   "execution_count": 1,
   "metadata": {
    "colab": {
     "base_uri": "https://localhost:8080/"
    },
    "id": "XGHfTt1HMVQw",
    "outputId": "e5226807-a740-4f22-a279-f466886518ba"
   },
   "outputs": [],
   "source": [
    "## install finrl library\n",
    "# !sudo apt install swig\n",
    "# !pip install git+https://github.com/AI4Finance-Foundation/FinRL.git"
   ]
  },
  {
   "cell_type": "code",
   "execution_count": 2,
   "metadata": {
    "id": "6RqrzokqoanP"
   },
   "outputs": [],
   "source": [
    "## Hide matplotlib warnings\n",
    "# import warnings\n",
    "# warnings.filterwarnings('ignore')\n",
    "\n",
    "import logging\n",
    "\n",
    "logging.getLogger(\"matplotlib.font_manager\").disabled = True"
   ]
  },
  {
   "cell_type": "markdown",
   "metadata": {
    "id": "Cz8DLleGz_TF"
   },
   "source": [
    "#### Import the necessary code libraries"
   ]
  },
  {
   "cell_type": "code",
   "execution_count": 3,
   "metadata": {
    "colab": {
     "base_uri": "https://localhost:8080/"
    },
    "id": "cP5t6U7-nYoc",
    "outputId": "fd138d3e-222a-4ec5-e008-03a28b89dae9"
   },
   "outputs": [],
   "source": [
    "import torch\n",
    "\n",
    "import pandas as pd\n",
    "\n",
    "from finrl.meta.preprocessor.yahoodownloader import YahooDownloader\n",
    "from finrl.meta.env_portfolio_optimization import PortfolioOptimizationEnv\n",
    "from finrl.agents.rlportfolio.models import DRLAgent\n",
    "\n",
    "device = \"cuda\" if torch.cuda.is_available() else \"cpu\""
   ]
  },
  {
   "cell_type": "markdown",
   "metadata": {
    "id": "TY2yhvpASEyo"
   },
   "source": [
    "## Fetch data\n",
    "\n",
    "In his paper, *Jiang et al* creates a portfolio composed of 11 cryptocurrencies. In order to show that Jiang's approach can be applied to other financial markets, we utilize a different portfolio of 11 stocks from the American stock market (NYSE). The dataset we will utilize in this experiment can be downloaded from kaggle."
   ]
  },
  {
   "cell_type": "code",
   "execution_count": 4,
   "metadata": {},
   "outputs": [],
   "source": [
    "# Note: If you have already downloaded the stock data, comment this cell!\n",
    "# !curl -L -o us-historical-stock-prices-with-earnings-data.zip https://www.kaggle.com/api/v1/datasets/download/tsaustin/us-historical-stock-prices-with-earnings-data\n",
    "# !unzip us-historical-stock-prices-with-earnings-data.zip stocks_latest/stock_prices_latest.csv\n",
    "# !mv stocks_latest/stock_prices_latest.csv .\n",
    "# !rm -r stocks_latest/\n",
    "# !rm us-historical-stock-prices-with-earnings-data.zip"
   ]
  },
  {
   "cell_type": "code",
   "execution_count": 5,
   "metadata": {
    "colab": {
     "base_uri": "https://localhost:8080/"
    },
    "id": "H11UjCstSFwm",
    "outputId": "3d27b983-d1e0-41af-b20a-421be40e469f"
   },
   "outputs": [],
   "source": [
    "IBOVESPA_STOCKS = [\"VALE3.SA\", \"PETR4.SA\", \"ITUB4.SA\", \"BBDC4.SA\",\n",
    "    \"BBAS3.SA\", \"RENT3.SA\", \"LREN3.SA\", \"PRIO3.SA\",\n",
    "    \"WEGE3.SA\", \"ABEV3.SA\"]"
   ]
  },
  {
   "cell_type": "code",
   "execution_count": 6,
   "metadata": {
    "colab": {
     "base_uri": "https://localhost:8080/",
     "height": 623
    },
    "id": "Bkm96aNsSIji",
    "outputId": "e3a20095-841e-4c89-c08e-24b9575cfb02"
   },
   "outputs": [
    {
     "name": "stdout",
     "output_type": "stream",
     "text": [
      "10\n"
     ]
    },
    {
     "name": "stderr",
     "output_type": "stream",
     "text": [
      "[*********************100%***********************]  1 of 1 completed\n",
      "[*********************100%***********************]  1 of 1 completed\n",
      "[*********************100%***********************]  1 of 1 completed\n",
      "[*********************100%***********************]  1 of 1 completed\n",
      "[*********************100%***********************]  1 of 1 completed\n",
      "[*********************100%***********************]  1 of 1 completed\n",
      "[*********************100%***********************]  1 of 1 completed\n",
      "[*********************100%***********************]  1 of 1 completed\n",
      "[*********************100%***********************]  1 of 1 completed\n",
      "[*********************100%***********************]  1 of 1 completed\n"
     ]
    },
    {
     "name": "stdout",
     "output_type": "stream",
     "text": [
      "Shape of DataFrame:  (32260, 8)\n"
     ]
    },
    {
     "data": {
      "text/html": [
       "<div>\n",
       "<style scoped>\n",
       "    .dataframe tbody tr th:only-of-type {\n",
       "        vertical-align: middle;\n",
       "    }\n",
       "\n",
       "    .dataframe tbody tr th {\n",
       "        vertical-align: top;\n",
       "    }\n",
       "\n",
       "    .dataframe thead th {\n",
       "        text-align: right;\n",
       "    }\n",
       "</style>\n",
       "<table border=\"1\" class=\"dataframe\">\n",
       "  <thead>\n",
       "    <tr style=\"text-align: right;\">\n",
       "      <th>Price</th>\n",
       "      <th>date</th>\n",
       "      <th>close</th>\n",
       "      <th>high</th>\n",
       "      <th>low</th>\n",
       "      <th>open</th>\n",
       "      <th>volume</th>\n",
       "      <th>tic</th>\n",
       "      <th>day</th>\n",
       "    </tr>\n",
       "  </thead>\n",
       "  <tbody>\n",
       "    <tr>\n",
       "      <th>0</th>\n",
       "      <td>2011-01-03</td>\n",
       "      <td>5.110479</td>\n",
       "      <td>8.728203</td>\n",
       "      <td>8.630313</td>\n",
       "      <td>8.632311</td>\n",
       "      <td>576145</td>\n",
       "      <td>ABEV3.SA</td>\n",
       "      <td>0</td>\n",
       "    </tr>\n",
       "    <tr>\n",
       "      <th>1</th>\n",
       "      <td>2011-01-03</td>\n",
       "      <td>6.060575</td>\n",
       "      <td>15.900000</td>\n",
       "      <td>15.690000</td>\n",
       "      <td>15.750000</td>\n",
       "      <td>6626800</td>\n",
       "      <td>BBAS3.SA</td>\n",
       "      <td>0</td>\n",
       "    </tr>\n",
       "    <tr>\n",
       "      <th>2</th>\n",
       "      <td>2011-01-03</td>\n",
       "      <td>6.065994</td>\n",
       "      <td>11.927362</td>\n",
       "      <td>11.724237</td>\n",
       "      <td>11.809763</td>\n",
       "      <td>10862336</td>\n",
       "      <td>BBDC4.SA</td>\n",
       "      <td>0</td>\n",
       "    </tr>\n",
       "    <tr>\n",
       "      <th>3</th>\n",
       "      <td>2011-01-03</td>\n",
       "      <td>10.159506</td>\n",
       "      <td>18.250118</td>\n",
       "      <td>17.963253</td>\n",
       "      <td>18.031555</td>\n",
       "      <td>10014663</td>\n",
       "      <td>ITUB4.SA</td>\n",
       "      <td>0</td>\n",
       "    </tr>\n",
       "    <tr>\n",
       "      <th>4</th>\n",
       "      <td>2011-01-03</td>\n",
       "      <td>5.395488</td>\n",
       "      <td>7.845370</td>\n",
       "      <td>7.656995</td>\n",
       "      <td>7.656995</td>\n",
       "      <td>4017796</td>\n",
       "      <td>LREN3.SA</td>\n",
       "      <td>0</td>\n",
       "    </tr>\n",
       "    <tr>\n",
       "      <th>...</th>\n",
       "      <td>...</td>\n",
       "      <td>...</td>\n",
       "      <td>...</td>\n",
       "      <td>...</td>\n",
       "      <td>...</td>\n",
       "      <td>...</td>\n",
       "      <td>...</td>\n",
       "      <td>...</td>\n",
       "    </tr>\n",
       "    <tr>\n",
       "      <th>32255</th>\n",
       "      <td>2023-12-28</td>\n",
       "      <td>30.414377</td>\n",
       "      <td>37.360001</td>\n",
       "      <td>37.040001</td>\n",
       "      <td>37.230000</td>\n",
       "      <td>21421900</td>\n",
       "      <td>PETR4.SA</td>\n",
       "      <td>3</td>\n",
       "    </tr>\n",
       "    <tr>\n",
       "      <th>32256</th>\n",
       "      <td>2023-12-28</td>\n",
       "      <td>46.049999</td>\n",
       "      <td>46.049999</td>\n",
       "      <td>45.320000</td>\n",
       "      <td>45.820000</td>\n",
       "      <td>7871200</td>\n",
       "      <td>PRIO3.SA</td>\n",
       "      <td>3</td>\n",
       "    </tr>\n",
       "    <tr>\n",
       "      <th>32257</th>\n",
       "      <td>2023-12-28</td>\n",
       "      <td>61.143093</td>\n",
       "      <td>63.900002</td>\n",
       "      <td>63.209999</td>\n",
       "      <td>63.450001</td>\n",
       "      <td>3404700</td>\n",
       "      <td>RENT3.SA</td>\n",
       "      <td>3</td>\n",
       "    </tr>\n",
       "    <tr>\n",
       "      <th>32258</th>\n",
       "      <td>2023-12-28</td>\n",
       "      <td>70.659607</td>\n",
       "      <td>77.459999</td>\n",
       "      <td>76.750000</td>\n",
       "      <td>77.000000</td>\n",
       "      <td>16545800</td>\n",
       "      <td>VALE3.SA</td>\n",
       "      <td>3</td>\n",
       "    </tr>\n",
       "    <tr>\n",
       "      <th>32259</th>\n",
       "      <td>2023-12-28</td>\n",
       "      <td>36.261761</td>\n",
       "      <td>37.220001</td>\n",
       "      <td>36.709999</td>\n",
       "      <td>36.840000</td>\n",
       "      <td>3536300</td>\n",
       "      <td>WEGE3.SA</td>\n",
       "      <td>3</td>\n",
       "    </tr>\n",
       "  </tbody>\n",
       "</table>\n",
       "<p>32260 rows × 8 columns</p>\n",
       "</div>"
      ],
      "text/plain": [
       "Price        date      close       high        low       open    volume  \\\n",
       "0      2011-01-03   5.110479   8.728203   8.630313   8.632311    576145   \n",
       "1      2011-01-03   6.060575  15.900000  15.690000  15.750000   6626800   \n",
       "2      2011-01-03   6.065994  11.927362  11.724237  11.809763  10862336   \n",
       "3      2011-01-03  10.159506  18.250118  17.963253  18.031555  10014663   \n",
       "4      2011-01-03   5.395488   7.845370   7.656995   7.656995   4017796   \n",
       "...           ...        ...        ...        ...        ...       ...   \n",
       "32255  2023-12-28  30.414377  37.360001  37.040001  37.230000  21421900   \n",
       "32256  2023-12-28  46.049999  46.049999  45.320000  45.820000   7871200   \n",
       "32257  2023-12-28  61.143093  63.900002  63.209999  63.450001   3404700   \n",
       "32258  2023-12-28  70.659607  77.459999  76.750000  77.000000  16545800   \n",
       "32259  2023-12-28  36.261761  37.220001  36.709999  36.840000   3536300   \n",
       "\n",
       "Price       tic  day  \n",
       "0      ABEV3.SA    0  \n",
       "1      BBAS3.SA    0  \n",
       "2      BBDC4.SA    0  \n",
       "3      ITUB4.SA    0  \n",
       "4      LREN3.SA    0  \n",
       "...         ...  ...  \n",
       "32255  PETR4.SA    3  \n",
       "32256  PRIO3.SA    3  \n",
       "32257  RENT3.SA    3  \n",
       "32258  VALE3.SA    3  \n",
       "32259  WEGE3.SA    3  \n",
       "\n",
       "[32260 rows x 8 columns]"
      ]
     },
     "execution_count": 6,
     "metadata": {},
     "output_type": "execute_result"
    }
   ],
   "source": [
    "print(len(IBOVESPA_STOCKS))\n",
    "\n",
    "portfolio_raw_df = YahooDownloader(start_date = '2011-01-01',\n",
    "                                end_date = '2023-12-31',\n",
    "                                ticker_list = IBOVESPA_STOCKS).fetch_data()\n",
    "portfolio_raw_df"
   ]
  },
  {
   "cell_type": "code",
   "execution_count": 7,
   "metadata": {
    "colab": {
     "base_uri": "https://localhost:8080/",
     "height": 444
    },
    "id": "2UqpIXsuSKfO",
    "outputId": "436605d5-bc9e-4038-e3d7-7bdf140033d8"
   },
   "outputs": [
    {
     "data": {
      "text/html": [
       "<div>\n",
       "<style scoped>\n",
       "    .dataframe tbody tr th:only-of-type {\n",
       "        vertical-align: middle;\n",
       "    }\n",
       "\n",
       "    .dataframe tbody tr th {\n",
       "        vertical-align: top;\n",
       "    }\n",
       "\n",
       "    .dataframe thead th {\n",
       "        text-align: right;\n",
       "    }\n",
       "</style>\n",
       "<table border=\"1\" class=\"dataframe\">\n",
       "  <thead>\n",
       "    <tr style=\"text-align: right;\">\n",
       "      <th>Price</th>\n",
       "      <th>date</th>\n",
       "      <th>close</th>\n",
       "      <th>high</th>\n",
       "      <th>low</th>\n",
       "      <th>open</th>\n",
       "      <th>volume</th>\n",
       "      <th>day</th>\n",
       "    </tr>\n",
       "    <tr>\n",
       "      <th>tic</th>\n",
       "      <th></th>\n",
       "      <th></th>\n",
       "      <th></th>\n",
       "      <th></th>\n",
       "      <th></th>\n",
       "      <th></th>\n",
       "      <th></th>\n",
       "    </tr>\n",
       "  </thead>\n",
       "  <tbody>\n",
       "    <tr>\n",
       "      <th>ABEV3.SA</th>\n",
       "      <td>3226</td>\n",
       "      <td>3226</td>\n",
       "      <td>3226</td>\n",
       "      <td>3226</td>\n",
       "      <td>3226</td>\n",
       "      <td>3226</td>\n",
       "      <td>3226</td>\n",
       "    </tr>\n",
       "    <tr>\n",
       "      <th>BBAS3.SA</th>\n",
       "      <td>3226</td>\n",
       "      <td>3226</td>\n",
       "      <td>3226</td>\n",
       "      <td>3226</td>\n",
       "      <td>3226</td>\n",
       "      <td>3226</td>\n",
       "      <td>3226</td>\n",
       "    </tr>\n",
       "    <tr>\n",
       "      <th>BBDC4.SA</th>\n",
       "      <td>3226</td>\n",
       "      <td>3226</td>\n",
       "      <td>3226</td>\n",
       "      <td>3226</td>\n",
       "      <td>3226</td>\n",
       "      <td>3226</td>\n",
       "      <td>3226</td>\n",
       "    </tr>\n",
       "    <tr>\n",
       "      <th>ITUB4.SA</th>\n",
       "      <td>3226</td>\n",
       "      <td>3226</td>\n",
       "      <td>3226</td>\n",
       "      <td>3226</td>\n",
       "      <td>3226</td>\n",
       "      <td>3226</td>\n",
       "      <td>3226</td>\n",
       "    </tr>\n",
       "    <tr>\n",
       "      <th>LREN3.SA</th>\n",
       "      <td>3226</td>\n",
       "      <td>3226</td>\n",
       "      <td>3226</td>\n",
       "      <td>3226</td>\n",
       "      <td>3226</td>\n",
       "      <td>3226</td>\n",
       "      <td>3226</td>\n",
       "    </tr>\n",
       "    <tr>\n",
       "      <th>PETR4.SA</th>\n",
       "      <td>3226</td>\n",
       "      <td>3226</td>\n",
       "      <td>3226</td>\n",
       "      <td>3226</td>\n",
       "      <td>3226</td>\n",
       "      <td>3226</td>\n",
       "      <td>3226</td>\n",
       "    </tr>\n",
       "    <tr>\n",
       "      <th>PRIO3.SA</th>\n",
       "      <td>3226</td>\n",
       "      <td>3226</td>\n",
       "      <td>3226</td>\n",
       "      <td>3226</td>\n",
       "      <td>3226</td>\n",
       "      <td>3226</td>\n",
       "      <td>3226</td>\n",
       "    </tr>\n",
       "    <tr>\n",
       "      <th>RENT3.SA</th>\n",
       "      <td>3226</td>\n",
       "      <td>3226</td>\n",
       "      <td>3226</td>\n",
       "      <td>3226</td>\n",
       "      <td>3226</td>\n",
       "      <td>3226</td>\n",
       "      <td>3226</td>\n",
       "    </tr>\n",
       "    <tr>\n",
       "      <th>VALE3.SA</th>\n",
       "      <td>3226</td>\n",
       "      <td>3226</td>\n",
       "      <td>3226</td>\n",
       "      <td>3226</td>\n",
       "      <td>3226</td>\n",
       "      <td>3226</td>\n",
       "      <td>3226</td>\n",
       "    </tr>\n",
       "    <tr>\n",
       "      <th>WEGE3.SA</th>\n",
       "      <td>3226</td>\n",
       "      <td>3226</td>\n",
       "      <td>3226</td>\n",
       "      <td>3226</td>\n",
       "      <td>3226</td>\n",
       "      <td>3226</td>\n",
       "      <td>3226</td>\n",
       "    </tr>\n",
       "  </tbody>\n",
       "</table>\n",
       "</div>"
      ],
      "text/plain": [
       "Price     date  close  high   low  open  volume   day\n",
       "tic                                                  \n",
       "ABEV3.SA  3226   3226  3226  3226  3226    3226  3226\n",
       "BBAS3.SA  3226   3226  3226  3226  3226    3226  3226\n",
       "BBDC4.SA  3226   3226  3226  3226  3226    3226  3226\n",
       "ITUB4.SA  3226   3226  3226  3226  3226    3226  3226\n",
       "LREN3.SA  3226   3226  3226  3226  3226    3226  3226\n",
       "PETR4.SA  3226   3226  3226  3226  3226    3226  3226\n",
       "PRIO3.SA  3226   3226  3226  3226  3226    3226  3226\n",
       "RENT3.SA  3226   3226  3226  3226  3226    3226  3226\n",
       "VALE3.SA  3226   3226  3226  3226  3226    3226  3226\n",
       "WEGE3.SA  3226   3226  3226  3226  3226    3226  3226"
      ]
     },
     "execution_count": 7,
     "metadata": {},
     "output_type": "execute_result"
    }
   ],
   "source": [
    "portfolio_raw_df.groupby(\"tic\").count()"
   ]
  },
  {
   "cell_type": "code",
   "execution_count": 8,
   "metadata": {},
   "outputs": [],
   "source": [
    "df_portfolio = portfolio_raw_df[[\"date\", \"tic\", \"close\", \"high\", \"low\"]]\n",
    "\n",
    "df_portfolio_train = df_portfolio[\n",
    "    (df_portfolio[\"date\"] >= \"2011-01-01\") & (df_portfolio[\"date\"] < \"2019-12-31\")\n",
    "]\n",
    "df_portfolio_2020 = df_portfolio[\n",
    "    (df_portfolio[\"date\"] >= \"2019-10-16\") & (df_portfolio[\"date\"] < \"2020-12-31\")\n",
    "]"
   ]
  },
  {
   "cell_type": "markdown",
   "metadata": {
    "id": "pM829994GWo3"
   },
   "source": [
    "### Instantiate Environment\n",
    "\n",
    "Using the `PortfolioOptimizationEnv`, it's easy to instantiate a portfolio optimization environment for reinforcement learning agents. In the example below, we use the dataframe created before to start an environment.\n",
    "\n",
    "We create an environment to with data from 2011 to 2019 which will be used to train the agent and another one with data of 2020, which will be used to test the environment.\n",
    "\n",
    "**Note:** Since the agent visualizes 50 temporal points in the past to choose its action, the dataframe used in the 2020 environment starts in 2019-10-16 so that the agent can take its first action in the first day of 2020. If the dataframe only contained data from 2020, the agent would only be able to start the portfolio optimization after 50 trading days have passed."
   ]
  },
  {
   "cell_type": "code",
   "execution_count": 9,
   "metadata": {},
   "outputs": [],
   "source": [
    "environment = PortfolioOptimizationEnv(\n",
    "    df_portfolio_train,\n",
    "    initial_amount=100000,\n",
    "    state_normalization=\"by_last_close\",\n",
    "    comission_fee_pct=0.0025,\n",
    "    time_window=50,\n",
    "    time_format=\"%Y-%m-%d\",\n",
    "    tic_column=\"tic\",\n",
    "    features=[\"close\", \"high\", \"low\"],\n",
    "    print_metrics=False,\n",
    "    plot_graphs=False,\n",
    ")\n",
    "\n",
    "environment_2020 = PortfolioOptimizationEnv(\n",
    "    df_portfolio_2020,\n",
    "    initial_amount=100000,\n",
    "    state_normalization=\"by_last_close\",\n",
    "    comission_fee_pct=0.0025,\n",
    "    time_window=50,\n",
    "    time_format=\"%Y-%m-%d\",\n",
    "    tic_column=\"tic\",\n",
    "    features=[\"close\", \"high\", \"low\"],\n",
    "    print_metrics=False,\n",
    "    plot_graphs=False,\n",
    ")"
   ]
  },
  {
   "cell_type": "markdown",
   "metadata": {},
   "source": [
    "### Instantiate Model\n",
    "\n",
    "Now, we can instantiate the model using FinRL API. In this example, we are going to use the EIIE architecture introduced by Jiang et. al.\n",
    "\n",
    ":exclamation: **Note:** Remember to set the policy's `time_window` parameter with the same value of the environment's `time_window`."
   ]
  },
  {
   "cell_type": "code",
   "execution_count": 10,
   "metadata": {
    "colab": {
     "base_uri": "https://localhost:8080/",
     "height": 1000,
     "referenced_widgets": [
      "750b2ea28d2a439db3fc5034927dbce2",
      "c172e120fc5e4f9ab13bf8599d868b5f",
      "4b2aa7128c5d4d15bb794eb76faccd6a",
      "317393fb13c0449abfff29a4949553a0",
      "8cb75a82e5374c51b1f47a6e15783177",
      "9cb3d937be5d4f7cac192b392218ef37",
      "b27b9cc333ac44a5bb2cec60d02f16c0",
      "6a1187acb99d44c68e27cd5aad879ff1",
      "6a5c9dbaddc441d390d4827c170cbe9c",
      "1f84695a1caf4c80b29eb5eea90bb29a",
      "a7a6884bfdb642b9b342f7cda49d7d67"
     ]
    },
    "id": "wr82W3E0uQSo",
    "outputId": "61dcf1f5-7cf0-40b2-85bd-3f7dd943ddc6",
    "scrolled": true
   },
   "outputs": [],
   "source": [
    "# set PolicyGradient parameters\n",
    "model_kwargs = {\n",
    "    \"lr\": 5e-5,\n",
    "    \"sample_bias\": 0.001,\n",
    "}\n",
    "\n",
    "# here, we can set EIIE's parameters\n",
    "policy_kwargs = {\n",
    "    \"time_window\": 50,\n",
    "}\n",
    "\n",
    "model = DRLAgent(environment).get_model(\n",
    "    \"pg\", \"eiie\", model_kwargs, policy_kwargs, device\n",
    ")"
   ]
  },
  {
   "cell_type": "markdown",
   "metadata": {},
   "source": [
    "### Train Model"
   ]
  },
  {
   "cell_type": "code",
   "execution_count": 11,
   "metadata": {},
   "outputs": [
    {
     "name": "stderr",
     "output_type": "stream",
     "text": [
      "Completed: 100%|\u001b[32m█\u001b[0m| 200000/200000 [16:40<00:00, 199.91step/s, fapv=4.53e+3, mdd=-\u001b[0m\n"
     ]
    },
    {
     "data": {
      "text/plain": [
       "<rlportfolio.algorithm.policy_gradient.PolicyGradient at 0x7f82149a5810>"
      ]
     },
     "execution_count": 11,
     "metadata": {},
     "output_type": "execute_result"
    }
   ],
   "source": [
    "DRLAgent.train_model(\n",
    "    model, 200000, logging_period=20000, val_env=environment_2020, val_gradient_steps=30\n",
    ")"
   ]
  },
  {
   "cell_type": "markdown",
   "metadata": {
    "id": "JE7X3qEeXOr4"
   },
   "source": [
    "### Save Model"
   ]
  },
  {
   "cell_type": "code",
   "execution_count": 12,
   "metadata": {
    "id": "YcWuPgPvXNpP"
   },
   "outputs": [],
   "source": [
    "torch.save(model.train_policy.state_dict(), \"policy_EIIE.pt\")"
   ]
  },
  {
   "cell_type": "markdown",
   "metadata": {
    "id": "7FRK9A98XVck"
   },
   "source": [
    "## Test Model"
   ]
  },
  {
   "cell_type": "markdown",
   "metadata": {
    "id": "Y4RuS2pRAa4H"
   },
   "source": [
    "### Test EIIE architecture\n",
    "\n",
    "It is possible to visualize the performance of the EIIE architecture by acessing data saved from the environment."
   ]
  },
  {
   "cell_type": "code",
   "execution_count": 13,
   "metadata": {
    "id": "JeRy__TI9CAs"
   },
   "outputs": [],
   "source": [
    "EIIE_results = {\n",
    "    \"training\": environment._asset_memory[\"final\"],\n",
    "    \"2020\": environment_2020._asset_memory[\"final\"],\n",
    "}"
   ]
  },
  {
   "cell_type": "markdown",
   "metadata": {
    "id": "LZc5PpbaBU-J"
   },
   "source": [
    "### Test Uniform Buy and Hold\n",
    "For comparison, we will also test the performance of a uniform buy and hold strategy. In this strategy, the portfolio has no remaining cash and the same percentage of money is allocated in each asset."
   ]
  },
  {
   "cell_type": "code",
   "execution_count": 14,
   "metadata": {
    "id": "ntHO_UIs-83T"
   },
   "outputs": [],
   "source": [
    "UBAH_results = {}\n",
    "\n",
    "PORTFOLIO_SIZE = len(IBOVESPA_STOCKS)\n",
    "\n",
    "# train period\n",
    "terminated = False\n",
    "environment.reset()\n",
    "action = None\n",
    "while not terminated:\n",
    "    if action is None:\n",
    "        action = [0] + [1 / PORTFOLIO_SIZE] * PORTFOLIO_SIZE\n",
    "    else:\n",
    "        action = environment._final_weights[-1]\n",
    "    _, _, terminated, _, _ = environment.step(action)\n",
    "UBAH_results[\"training\"] = environment._asset_memory[\"final\"]\n",
    "\n",
    "# 2020\n",
    "terminated = False\n",
    "environment_2020.reset()\n",
    "action = None\n",
    "while not terminated:\n",
    "    if action is None:\n",
    "        action = [0] + [1 / PORTFOLIO_SIZE] * PORTFOLIO_SIZE\n",
    "    else:\n",
    "        action = environment_2020._final_weights[-1]\n",
    "    _, _, terminated, _, _ = environment_2020.step(action)\n",
    "UBAH_results[\"2020\"] = environment_2020._asset_memory[\"final\"]"
   ]
  },
  {
   "cell_type": "markdown",
   "metadata": {},
   "source": [
    "### Best Stock\n",
    "We will also compare with a benchmark: what if the agent invested everything in the best performing stock of the test period? This benchmark is not realistic, since the agent would need to have information about the feature."
   ]
  },
  {
   "cell_type": "code",
   "execution_count": 15,
   "metadata": {},
   "outputs": [],
   "source": [
    "best_stock_results = {}\n",
    "\n",
    "# 2020\n",
    "terminated = False\n",
    "environment_2020.reset()\n",
    "while not terminated:\n",
    "    action = [0, 0, 0, 0, 0, 0, 0, 0, 0, 0, 1]\n",
    "    _, _, terminated, _, _ = environment_2020.step(action)\n",
    "best_stock_results[\"2020\"] = environment_2020._asset_memory[\"final\"]"
   ]
  },
  {
   "cell_type": "markdown",
   "metadata": {
    "id": "kBMM7hAHC6rq"
   },
   "source": [
    "### Plot graphics"
   ]
  },
  {
   "cell_type": "code",
   "execution_count": 16,
   "metadata": {
    "id": "n8YrDNpeC71w"
   },
   "outputs": [
    {
     "data": {
      "image/png": "[encoded data removed]",
      "text/plain": [
       "<Figure size 1000x600 with 1 Axes>"
      ]
     },
     "metadata": {},
     "output_type": "display_data"
    }
   ],
   "source": [
    "import matplotlib.pyplot as plt\n",
    "%matplotlib inline \n",
    "\n",
    "plt.plot(UBAH_results[\"training\"], label=\"Buy and Hold\")\n",
    "plt.plot(EIIE_results[\"training\"], label=\"EIIE\")\n",
    "\n",
    "plt.xlabel(\"Days\")\n",
    "plt.ylabel(\"Portfolio Value\")\n",
    "plt.title(\"Performance in training period\")\n",
    "plt.legend()\n",
    "\n",
    "plt.show()"
   ]
  },
  {
   "cell_type": "code",
   "execution_count": 17,
   "metadata": {
    "id": "dQniascoDIH2"
   },
   "outputs": [
    {
     "data": {
      "image/png": "[encoded data removed]",
      "text/plain": [
       "<Figure size 1000x600 with 1 Axes>"
      ]
     },
     "metadata": {},
     "output_type": "display_data"
    }
   ],
   "source": [
    "plt.plot(UBAH_results[\"2020\"], label=\"Buy and Hold\")\n",
    "plt.plot(EIIE_results[\"2020\"], label=\"EIIE\")\n",
    "plt.plot(best_stock_results[\"2020\"], label=\"Best Stock WEGE3.SA\")\n",
    "\n",
    "plt.xlabel(\"Days\")\n",
    "plt.ylabel(\"Portfolio Value\")\n",
    "plt.title(\"Performance in 2020\")\n",
    "plt.legend()\n",
    "\n",
    "plt.show()"
   ]
  },
  {
   "cell_type": "markdown",
   "metadata": {},
   "source": [
    "The agent successfully learned a policy that outperformed the uniform buy-and-hold strategy and "
   ]
  }
 ],
 "metadata": {
  "accelerator": "GPU",
  "colab": {
   "gpuType": "T4",
   "provenance": []
  },
  "kernelspec": {
   "display_name": "Python 3 (ipykernel)",
   "language": "python",
   "name": "python3"
  },
  "language_info": {
   "codemirror_mode": {
    "name": "ipython",
    "version": 3
   },
   "file_extension": ".py",
   "mimetype": "text/x-python",
   "name": "python",
   "nbconvert_exporter": "python",
   "pygments_lexer": "ipython3",
   "version": "3.10.16"
  },
  "widgets": {
   "application/vnd.jupyter.widget-state+json": {
    "1f84695a1caf4c80b29eb5eea90bb29a": {
     "model_module": "@jupyter-widgets/base",
     "model_module_version": "1.2.0",
     "model_name": "LayoutModel",
     "state": {
      "_model_module": "@jupyter-widgets/base",
      "_model_module_version": "1.2.0",
      "_model_name": "LayoutModel",
      "_view_count": null,
      "_view_module": "@jupyter-widgets/base",
      "_view_module_version": "1.2.0",
      "_view_name": "LayoutView",
      "align_content": null,
      "align_items": null,
      "align_self": null,
      "border": null,
      "bottom": null,
      "display": null,
      "flex": null,
      "flex_flow": null,
      "grid_area": null,
      "grid_auto_columns": null,
      "grid_auto_flow": null,
      "grid_auto_rows": null,
      "grid_column": null,
      "grid_gap": null,
      "grid_row": null,
      "grid_template_areas": null,
      "grid_template_columns": null,
      "grid_template_rows": null,
      "height": null,
      "justify_content": null,
      "justify_items": null,
      "left": null,
      "margin": null,
      "max_height": null,
      "max_width": null,
      "min_height": null,
      "min_width": null,
      "object_fit": null,
      "object_position": null,
      "order": null,
      "overflow": null,
      "overflow_x": null,
      "overflow_y": null,
      "padding": null,
      "right": null,
      "top": null,
      "visibility": null,
      "width": null
     }
    },
    "317393fb13c0449abfff29a4949553a0": {
     "model_module": "@jupyter-widgets/controls",
     "model_module_version": "1.5.0",
     "model_name": "HTMLModel",
     "state": {
      "_dom_classes": [],
      "_model_module": "@jupyter-widgets/controls",
      "_model_module_version": "1.5.0",
      "_model_name": "HTMLModel",
      "_view_count": null,
      "_view_module": "@jupyter-widgets/controls",
      "_view_module_version": "1.5.0",
      "_view_name": "HTMLView",
      "description": "",
      "description_tooltip": null,
      "layout": "IPY_MODEL_1f84695a1caf4c80b29eb5eea90bb29a",
      "placeholder": "​",
      "style": "IPY_MODEL_a7a6884bfdb642b9b342f7cda49d7d67",
      "value": " 10/250 [05:53&lt;2:10:07, 32.53s/it]"
     }
    },
    "4b2aa7128c5d4d15bb794eb76faccd6a": {
     "model_module": "@jupyter-widgets/controls",
     "model_module_version": "1.5.0",
     "model_name": "FloatProgressModel",
     "state": {
      "_dom_classes": [],
      "_model_module": "@jupyter-widgets/controls",
      "_model_module_version": "1.5.0",
      "_model_name": "FloatProgressModel",
      "_view_count": null,
      "_view_module": "@jupyter-widgets/controls",
      "_view_module_version": "1.5.0",
      "_view_name": "ProgressView",
      "bar_style": "danger",
      "description": "",
      "description_tooltip": null,
      "layout": "IPY_MODEL_6a1187acb99d44c68e27cd5aad879ff1",
      "max": 250,
      "min": 0,
      "orientation": "horizontal",
      "style": "IPY_MODEL_6a5c9dbaddc441d390d4827c170cbe9c",
      "value": 10
     }
    },
    "6a1187acb99d44c68e27cd5aad879ff1": {
     "model_module": "@jupyter-widgets/base",
     "model_module_version": "1.2.0",
     "model_name": "LayoutModel",
     "state": {
      "_model_module": "@jupyter-widgets/base",
      "_model_module_version": "1.2.0",
      "_model_name": "LayoutModel",
      "_view_count": null,
      "_view_module": "@jupyter-widgets/base",
      "_view_module_version": "1.2.0",
      "_view_name": "LayoutView",
      "align_content": null,
      "align_items": null,
      "align_self": null,
      "border": null,
      "bottom": null,
      "display": null,
      "flex": null,
      "flex_flow": null,
      "grid_area": null,
      "grid_auto_columns": null,
      "grid_auto_flow": null,
      "grid_auto_rows": null,
      "grid_column": null,
      "grid_gap": null,
      "grid_row": null,
      "grid_template_areas": null,
      "grid_template_columns": null,
      "grid_template_rows": null,
      "height": null,
      "justify_content": null,
      "justify_items": null,
      "left": null,
      "margin": null,
      "max_height": null,
      "max_width": null,
      "min_height": null,
      "min_width": null,
      "object_fit": null,
      "object_position": null,
      "order": null,
      "overflow": null,
      "overflow_x": null,
      "overflow_y": null,
      "padding": null,
      "right": null,
      "top": null,
      "visibility": null,
      "width": null
     }
    },
    "6a5c9dbaddc441d390d4827c170cbe9c": {
     "model_module": "@jupyter-widgets/controls",
     "model_module_version": "1.5.0",
     "model_name": "ProgressStyleModel",
     "state": {
      "_model_module": "@jupyter-widgets/controls",
      "_model_module_version": "1.5.0",
      "_model_name": "ProgressStyleModel",
      "_view_count": null,
      "_view_module": "@jupyter-widgets/base",
      "_view_module_version": "1.2.0",
      "_view_name": "StyleView",
      "bar_color": null,
      "description_width": ""
     }
    },
    "750b2ea28d2a439db3fc5034927dbce2": {
     "model_module": "@jupyter-widgets/controls",
     "model_module_version": "1.5.0",
     "model_name": "HBoxModel",
     "state": {
      "_dom_classes": [],
      "_model_module": "@jupyter-widgets/controls",
      "_model_module_version": "1.5.0",
      "_model_name": "HBoxModel",
      "_view_count": null,
      "_view_module": "@jupyter-widgets/controls",
      "_view_module_version": "1.5.0",
      "_view_name": "HBoxView",
      "box_style": "",
      "children": [
       "IPY_MODEL_c172e120fc5e4f9ab13bf8599d868b5f",
       "IPY_MODEL_4b2aa7128c5d4d15bb794eb76faccd6a",
       "IPY_MODEL_317393fb13c0449abfff29a4949553a0"
      ],
      "layout": "IPY_MODEL_8cb75a82e5374c51b1f47a6e15783177"
     }
    },
    "8cb75a82e5374c51b1f47a6e15783177": {
     "model_module": "@jupyter-widgets/base",
     "model_module_version": "1.2.0",
     "model_name": "LayoutModel",
     "state": {
      "_model_module": "@jupyter-widgets/base",
      "_model_module_version": "1.2.0",
      "_model_name": "LayoutModel",
      "_view_count": null,
      "_view_module": "@jupyter-widgets/base",
      "_view_module_version": "1.2.0",
      "_view_name": "LayoutView",
      "align_content": null,
      "align_items": null,
      "align_self": null,
      "border": null,
      "bottom": null,
      "display": null,
      "flex": null,
      "flex_flow": null,
      "grid_area": null,
      "grid_auto_columns": null,
      "grid_auto_flow": null,
      "grid_auto_rows": null,
      "grid_column": null,
      "grid_gap": null,
      "grid_row": null,
      "grid_template_areas": null,
      "grid_template_columns": null,
      "grid_template_rows": null,
      "height": null,
      "justify_content": null,
      "justify_items": null,
      "left": null,
      "margin": null,
      "max_height": null,
      "max_width": null,
      "min_height": null,
      "min_width": null,
      "object_fit": null,
      "object_position": null,
      "order": null,
      "overflow": null,
      "overflow_x": null,
      "overflow_y": null,
      "padding": null,
      "right": null,
      "top": null,
      "visibility": null,
      "width": null
     }
    },
    "9cb3d937be5d4f7cac192b392218ef37": {
     "model_module": "@jupyter-widgets/base",
     "model_module_version": "1.2.0",
     "model_name": "LayoutModel",
     "state": {
      "_model_module": "@jupyter-widgets/base",
      "_model_module_version": "1.2.0",
      "_model_name": "LayoutModel",
      "_view_count": null,
      "_view_module": "@jupyter-widgets/base",
      "_view_module_version": "1.2.0",
      "_view_name": "LayoutView",
      "align_content": null,
      "align_items": null,
      "align_self": null,
      "border": null,
      "bottom": null,
      "display": null,
      "flex": null,
      "flex_flow": null,
      "grid_area": null,
      "grid_auto_columns": null,
      "grid_auto_flow": null,
      "grid_auto_rows": null,
      "grid_column": null,
      "grid_gap": null,
      "grid_row": null,
      "grid_template_areas": null,
      "grid_template_columns": null,
      "grid_template_rows": null,
      "height": null,
      "justify_content": null,
      "justify_items": null,
      "left": null,
      "margin": null,
      "max_height": null,
      "max_width": null,
      "min_height": null,
      "min_width": null,
      "object_fit": null,
      "object_position": null,
      "order": null,
      "overflow": null,
      "overflow_x": null,
      "overflow_y": null,
      "padding": null,
      "right": null,
      "top": null,
      "visibility": null,
      "width": null
     }
    },
    "a7a6884bfdb642b9b342f7cda49d7d67": {
     "model_module": "@jupyter-widgets/controls",
     "model_module_version": "1.5.0",
     "model_name": "DescriptionStyleModel",
     "state": {
      "_model_module": "@jupyter-widgets/controls",
      "_model_module_version": "1.5.0",
      "_model_name": "DescriptionStyleModel",
      "_view_count": null,
      "_view_module": "@jupyter-widgets/base",
      "_view_module_version": "1.2.0",
      "_view_name": "StyleView",
      "description_width": ""
     }
    },
    "b27b9cc333ac44a5bb2cec60d02f16c0": {
     "model_module": "@jupyter-widgets/controls",
     "model_module_version": "1.5.0",
     "model_name": "DescriptionStyleModel",
     "state": {
      "_model_module": "@jupyter-widgets/controls",
      "_model_module_version": "1.5.0",
      "_model_name": "DescriptionStyleModel",
      "_view_count": null,
      "_view_module": "@jupyter-widgets/base",
      "_view_module_version": "1.2.0",
      "_view_name": "StyleView",
      "description_width": ""
     }
    },
    "c172e120fc5e4f9ab13bf8599d868b5f": {
     "model_module": "@jupyter-widgets/controls",
     "model_module_version": "1.5.0",
     "model_name": "HTMLModel",
     "state": {
      "_dom_classes": [],
      "_model_module": "@jupyter-widgets/controls",
      "_model_module_version": "1.5.0",
      "_model_name": "HTMLModel",
      "_view_count": null,
      "_view_module": "@jupyter-widgets/controls",
      "_view_module_version": "1.5.0",
      "_view_name": "HTMLView",
      "description": "",
      "description_tooltip": null,
      "layout": "IPY_MODEL_9cb3d937be5d4f7cac192b392218ef37",
      "placeholder": "​",
      "style": "IPY_MODEL_b27b9cc333ac44a5bb2cec60d02f16c0",
      "value": "  4%"
     }
    }
   }
  }
 },
 "nbformat": 4,
 "nbformat_minor": 4
}
